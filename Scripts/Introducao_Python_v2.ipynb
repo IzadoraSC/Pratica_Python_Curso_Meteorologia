{
  "nbformat": 4,
  "nbformat_minor": 0,
  "metadata": {
    "colab": {
      "provenance": [],
      "mount_file_id": "1Wkh08Es70_7yw4dstqMaJot2fKu4Jjvr",
      "authorship_tag": "ABX9TyPSxrrjOx3/E44eYxNVKl4i",
      "include_colab_link": true
    },
    "kernelspec": {
      "name": "python3",
      "display_name": "Python 3"
    },
    "language_info": {
      "name": "python"
    }
  },
  "cells": [
    {
      "cell_type": "markdown",
      "metadata": {
        "id": "view-in-github",
        "colab_type": "text"
      },
      "source": [
        "<a href=\"https://colab.research.google.com/github/IzadoraSC/Pratica_Python_Curso_Meteorologia/blob/main/Scripts/Introducao_Python_v2.ipynb\" target=\"_parent\"><img src=\"https://colab.research.google.com/assets/colab-badge.svg\" alt=\"Open In Colab\"/></a>"
      ]
    },
    {
      "cell_type": "markdown",
      "source": [
        "#A Linguagem Python\n",
        "\n",
        "A linguagem Python foi desenvolvida por Guido van Rossum, e lançanda no início da década de 1990. Python é uma linguagem de alto nível interpretada, de código aberto e próposito geral. Sendo utilizada em vários setores como ciência de dados, matemática, geografia, física, medicina, *big data*, *machine learning*, detre outras.\n",
        "\n",
        "Python é uma linguagem multiplataforma, funciona em diferentes ambientes e sistemas operacionais, como Android, IOS, Linux, Windows e na **nuvem**.\n",
        "\n",
        "Para executar um programa escrito em Python, é precis tê-lo instalado em seu computador, assim como também é necessário ter ferramentas para a escrita e execução de códigos. Essas ferramentas são chamadas de ambiente de desenvolvimento integrado (IDE, *integrated development environmen*t), como várias opções gratuitas.\n",
        "\n",
        "A plataforma Google Colab ou Colaboratory (este que você está acessando), permite que você escreva e execute códigos em Python no navegador, sem que seja \"necessário\" configurar ferramentas, além de possuir acesso gratuito à GPUs e compoartilhamento facilitado."
      ],
      "metadata": {
        "id": "jvDbk2jd6XFf"
      }
    },
    {
      "cell_type": "markdown",
      "source": [
        "A linguagem Python, como a maioria das linguagens de programação, é formada por:\n",
        "- comandos;\n",
        "- tipos de dados;\n",
        "- variáveis;\n",
        "- expressões;\n",
        "- estrutura de dados;\n",
        "- funções;\n",
        "- bibliotecas (pacostes)."
      ],
      "metadata": {
        "id": "vgq_s_71KySg"
      }
    },
    {
      "cell_type": "markdown",
      "source": [
        "Obs: os arquivos (scripts, códigos) criado para executar no computador, devem ter a extensão **.py** (scrip_01.py) e necessitam que o interpretador da linguagem Python esteja instalado no computador que será utilizado."
      ],
      "metadata": {
        "id": "4jpIZaZjLSFN"
      }
    },
    {
      "cell_type": "markdown",
      "source": [
        "###Conhecendo o ambiente colab"
      ],
      "metadata": {
        "id": "Nd3MfKdYIuOQ"
      }
    },
    {
      "cell_type": "code",
      "source": [
        "#Conectando ao driver\n",
        "drivery = \"/content/drive\"\n",
        "from google.colab import drive\n",
        "drive.mount(drivery)"
      ],
      "metadata": {
        "id": "gNFuTT1jJATp"
      },
      "execution_count": null,
      "outputs": []
    },
    {
      "cell_type": "code",
      "source": [
        "!pip list"
      ],
      "metadata": {
        "id": "GqaMH_T0JUWR"
      },
      "execution_count": null,
      "outputs": []
    },
    {
      "cell_type": "code",
      "execution_count": null,
      "metadata": {
        "colab": {
          "base_uri": "https://localhost:8080/"
        },
        "id": "ZONQ3VzF3N1s",
        "outputId": "3a2d0465-1888-4b7a-e70c-5a924da8f85a"
      },
      "outputs": [
        {
          "output_type": "stream",
          "name": "stdout",
          "text": [
            "  Preparing metadata (setup.py) ... \u001b[?25l\u001b[?25hdone\n",
            "  Building wheel for wget (setup.py) ... \u001b[?25l\u001b[?25hdone\n"
          ]
        }
      ],
      "source": [
        "#Instalando bibliotecas/pacotes\n",
        "!pip install wget -q"
      ]
    },
    {
      "cell_type": "code",
      "source": [
        "#Importando bibliotecas/pacotes\n",
        "import wget\n",
        "import pandas as pd"
      ],
      "metadata": {
        "id": "0FlCWB4r3s6t"
      },
      "execution_count": null,
      "outputs": []
    },
    {
      "cell_type": "markdown",
      "source": [
        "### Meu primeiro programa"
      ],
      "metadata": {
        "id": "dF1nfAJtMix_"
      }
    },
    {
      "cell_type": "code",
      "source": [
        "print('Primeira turma de meteorologia da UEMA!!')"
      ],
      "metadata": {
        "id": "eKGF_NcgMolE"
      },
      "execution_count": null,
      "outputs": []
    },
    {
      "cell_type": "markdown",
      "source": [
        "###Tipos de dados e variáveis"
      ],
      "metadata": {
        "id": "_92sRWKbOmN7"
      }
    },
    {
      "cell_type": "code",
      "source": [
        "temp1 = 30  # Tipo inteiro\n",
        "temp2 = 23.3  # Tipo ponto flutuante (decimal)\n",
        "estacao = 'Verão'   # Tipo texto (string, caractere)\n",
        "var_bool = True # Tipo booleano\n",
        "\n",
        "print(type(temp1))\n",
        "print(type(temp2))\n",
        "print(type(estacao))\n",
        "print(type(var_bool))"
      ],
      "metadata": {
        "id": "O0IgL9BlOwf2"
      },
      "execution_count": null,
      "outputs": []
    },
    {
      "cell_type": "code",
      "source": [
        "#Operações\n",
        "soma = temp1 + temp2\n",
        "print(soma)\n",
        "\n",
        "print(temp1 - temp2)\n",
        "print(temp1 * temp2)\n",
        "print(temp1 / temp2)"
      ],
      "metadata": {
        "id": "bvAwVGt4Pte4"
      },
      "execution_count": null,
      "outputs": []
    },
    {
      "cell_type": "code",
      "source": [
        "type(soma)"
      ],
      "metadata": {
        "id": "mvocL41iP7t4"
      },
      "execution_count": null,
      "outputs": []
    },
    {
      "cell_type": "markdown",
      "source": [
        "### O básico de programação"
      ],
      "metadata": {
        "id": "7szg0a9UQcLa"
      }
    },
    {
      "cell_type": "markdown",
      "source": [
        "- Loop for: estrutura de repetição.\n",
        "- Loop while: a estrutura será repetida enquanto a expressão for verdadeira (True), até chegar no critério de parada (que não pode faltar).\n",
        "- Condicional: uma condição é testada, caso o valor seja verdadeiro (True), um conjunto de ações são tomadas. Se for uma condicional composta, quando a condição for falsa (False), o programa executará uma ou várias instruções.\n",
        "  - if\n",
        "  - if-else\n",
        "  - if-elif-else\n",
        "- Break: utilizado para sair de loops de maneira projetada"
      ],
      "metadata": {
        "id": "O6fkyFrnQzjR"
      }
    },
    {
      "cell_type": "code",
      "source": [
        "# Loop for\n",
        "\n",
        "# Imprime cada uma das letras da palavra Meteorologia.\n",
        "nome = 'Meteorologia'\n",
        "\n",
        "for letra in nome:\n",
        "  print(letra)"
      ],
      "metadata": {
        "id": "AfBPmNSUR9cK"
      },
      "execution_count": null,
      "outputs": []
    },
    {
      "cell_type": "code",
      "source": [
        "# Loop for\n",
        "\n",
        "#Imprime os valores de 1 a 9\n",
        "for numero in range(1, 11):\n",
        "  print(numero)"
      ],
      "metadata": {
        "id": "wt7hIc5LQgKM"
      },
      "execution_count": null,
      "outputs": []
    },
    {
      "cell_type": "code",
      "source": [
        "# Loop while\n",
        "\n",
        "#Imprime os valores de 1 a 9\n",
        "numero = 1\n",
        "\n",
        "while numero < 10:\n",
        "    print(numero)\n",
        "    numero = numero + 1  #numero += 1"
      ],
      "metadata": {
        "id": "Lv7GnNLdRqzu"
      },
      "execution_count": null,
      "outputs": []
    },
    {
      "cell_type": "code",
      "source": [
        "# Loop while\n",
        "\n",
        "# Enquanto o usuário não digitar “sim”, o loop será executado\n",
        "resposta = ''\n",
        "\n",
        "while resposta != 'sim':\n",
        "    resposta = input('Você quer passar na disciplina? ')"
      ],
      "metadata": {
        "id": "sRk_gNCgStTg"
      },
      "execution_count": null,
      "outputs": []
    },
    {
      "cell_type": "code",
      "source": [
        "# Condicional: if\n",
        "\n",
        "temperatura = 30\n",
        "\n",
        "if temperatura < 40:\n",
        "  print(\"Temperatura menor que 40 graus Celsius\")\n"
      ],
      "metadata": {
        "id": "Y7tEcfuNS9UK"
      },
      "execution_count": null,
      "outputs": []
    },
    {
      "cell_type": "code",
      "source": [
        "# Condicional: if-else\n",
        "\n",
        "temperatura = 45\n",
        "\n",
        "if temperatura < 40:\n",
        "  print(\"Temperatura menor que 40 graus Celsius\")\n",
        "else:\n",
        "  print(\"Temperatura maior que 40 graus Celsius\")"
      ],
      "metadata": {
        "id": "7eaP_-JMUvbP"
      },
      "execution_count": null,
      "outputs": []
    },
    {
      "cell_type": "code",
      "source": [
        "# Condicional: if-elif-else\n",
        "\n",
        "temperatura = 60\n",
        "\n",
        "if temperatura < 30:\n",
        "  print(\"Temperatura menor que 30 graus Celsius\")\n",
        "elif temperatura == 50:\n",
        "  print(\"Temperatura igual a 50 graus Celsius\")\n",
        "else:\n",
        "  print(\"Temperatura maior que 30 graus Celsius\")"
      ],
      "metadata": {
        "id": "prlC6M-4VCEc"
      },
      "execution_count": null,
      "outputs": []
    },
    {
      "cell_type": "code",
      "source": [
        "# Break\n",
        "for numero in range(1, 11):\n",
        "  if numero == 6:\n",
        "    break\n",
        "  else:\n",
        "    print(numero)\n",
        "\n",
        "print('Sai do loop') # O print está fora do bloco for."
      ],
      "metadata": {
        "id": "MIAbohgpVnU7"
      },
      "execution_count": null,
      "outputs": []
    },
    {
      "cell_type": "code",
      "source": [
        "while True:\n",
        "  comando = input(\"Digite 'sair' para finalizar o programa.\")\n",
        "  if comando == 'sair':\n",
        "    break"
      ],
      "metadata": {
        "id": "TQl_oLOWV94f"
      },
      "execution_count": null,
      "outputs": []
    },
    {
      "cell_type": "markdown",
      "source": [
        "### Estruturas lógicas\n",
        "- ***and*** (e);\n",
        "-  ***or*** (ou) ; e\n",
        "-  ***not*** (não)"
      ],
      "metadata": {
        "id": "K9MK5-YLWF6D"
      }
    },
    {
      "cell_type": "code",
      "source": [
        "# Exemplo 1 (and)\n",
        "\n",
        "umidade_relativa = 80\n",
        "temperatura = 20\n",
        "\n",
        "if umidade_relativa <= 30 and temperatura >= 40:\n",
        "  print(\"Condição perigosa\")\n",
        "else:\n",
        "  print(\"Condição favorável\")"
      ],
      "metadata": {
        "id": "Bm3A1cAvWXMr"
      },
      "execution_count": null,
      "outputs": []
    },
    {
      "cell_type": "code",
      "source": [
        "# Exemplo 2 (or)\n",
        "\n",
        "umidade_relativa = 80\n",
        "temperatura = 45\n",
        "\n",
        "if umidade_relativa <= 30 or temperatura >= 40:\n",
        "  print(\"Condição perigosa\")\n",
        "else:\n",
        "  print(\"Condição favorável\")"
      ],
      "metadata": {
        "id": "85nX_wMTWsXH"
      },
      "execution_count": null,
      "outputs": []
    },
    {
      "cell_type": "code",
      "source": [
        "# Exemplo 3 (not)\n",
        "\n",
        "umidade_relativa = 80\n",
        "\n",
        "if not umidade_relativa <= 30:\n",
        "  print(\"Umidade relativa alta\")\n",
        "else:\n",
        "  print(\"Umidade relativa baixa\")"
      ],
      "metadata": {
        "id": "tBdsdgxGXH9P"
      },
      "execution_count": null,
      "outputs": []
    },
    {
      "cell_type": "markdown",
      "source": [
        "###Lista\n",
        "Listas em Python funcionam como vetores/matrizes (arrays), com a diferença de serem dinâmicos\n",
        "com a possibilidade de inserir nela qualquer tipo de dado.\n",
        "- As listas em Python são representadas por [].\n",
        "- Dinâmico: Não possui tamanho fixo, ou seja, pode-se criar a lista e adicionar/remover elementos a ela;\n",
        "- Qualquer tipo de dado: Não possuem tipo de dado fixo, ou seja, pode-se incluir qualquer tipo de dado.\n",
        "- Listas são mutáveis: elas podem mudar constantemente."
      ],
      "metadata": {
        "id": "UlUTR2abXh9U"
      }
    },
    {
      "cell_type": "code",
      "source": [
        "#Exemplos de listas\n",
        "\n",
        "lista1 = [1, 99, 4, 27, 15] # Lista de inteiros.\n",
        "lista2 = ['M', 'e', 't', 'e', 'o', 'r', 'o', 'l', 'o', 'g', 'i', 'a'] # Lista de strings.\n",
        "lista3 = [] # Lista vazia.\n",
        "lista4 = list(range(11)) # Cria uma lista com 10 elementos (0 a 10) do tipo inteiro.\n",
        "lista5 = list('Meteorologia') # ['M', 'e', 't', 'e', 'o', 'r', 'o', 'l', 'o', 'g', 'i', 'a']\n"
      ],
      "metadata": {
        "id": "DWKIe4TCX0hz"
      },
      "execution_count": null,
      "outputs": []
    },
    {
      "cell_type": "code",
      "source": [
        "# Ordenando uma lista\n",
        "\n",
        "x = [1, 30, 5, 8, 0]\n",
        "x.sort()\n",
        "print(x)"
      ],
      "metadata": {
        "id": "aXnvwWt6YOGW"
      },
      "execution_count": null,
      "outputs": []
    },
    {
      "cell_type": "code",
      "source": [
        "# Contar o número de elementos que se repete na lista\n",
        "\n",
        "x = [1, 30, 5, 8, 0, 30, 5, 5, 0]\n",
        "print(x.count(5))"
      ],
      "metadata": {
        "id": "8cUq8BjjYUlw"
      },
      "execution_count": null,
      "outputs": []
    },
    {
      "cell_type": "code",
      "source": [
        "# Adicionar um elemento a lista\n",
        "\n",
        "x = [1, 30, 5, 8, 0, 30, 5, 5, 0]\n",
        "print(x)\n"
      ],
      "metadata": {
        "id": "fYZrnJtpYk4u"
      },
      "execution_count": null,
      "outputs": []
    },
    {
      "cell_type": "code",
      "source": [
        "x.append(100) # Inclui um elemento no fim da lista.\n",
        "print(x)"
      ],
      "metadata": {
        "id": "JGeyRrZIYvSF"
      },
      "execution_count": null,
      "outputs": []
    },
    {
      "cell_type": "code",
      "source": [
        "x.extend([300, 120, -5]) # Inclui mais de um elemento no fim da lista.\n",
        "print(x)"
      ],
      "metadata": {
        "id": "Klkztx8eY1Qw"
      },
      "execution_count": null,
      "outputs": []
    },
    {
      "cell_type": "code",
      "source": [
        "x.insert(4, 9) # Adiciona na posição 4 o valor -999.\n",
        "print(x)"
      ],
      "metadata": {
        "id": "2y8dAerPZCf-"
      },
      "execution_count": null,
      "outputs": []
    },
    {
      "cell_type": "code",
      "source": [
        "# Unir lista\n",
        "x = [1, 30, 5, 8, 0, 30, 5, 5, 0]\n",
        "y = [-999, 7, -10]\n",
        "print(x)\n",
        "print(y)\n",
        "x.extend(y) # Junta as duas listas.\n",
        "print(x)"
      ],
      "metadata": {
        "id": "MdVKLun4ZKrj"
      },
      "execution_count": null,
      "outputs": []
    },
    {
      "cell_type": "code",
      "source": [
        "# Inverter a ordem de uma lista\n",
        "x = [1, 30, 5, 8, 0, 30, 5, 5, 0]\n",
        "print(x)\n",
        "x.reverse() # Inverte a ordem da lista.\n",
        "print(x)"
      ],
      "metadata": {
        "id": "zd06iZJOZb1r"
      },
      "execution_count": null,
      "outputs": []
    },
    {
      "cell_type": "code",
      "source": [
        "# Remover o último elemento da lista\n",
        "x = [1, 30, 5, 8, 0, 30, 5, 5, 0]\n",
        "print(x)\n",
        "x.pop() # Remove o último elemento da lista.\n",
        "print(x)"
      ],
      "metadata": {
        "id": "LkAxzmhgZlz7"
      },
      "execution_count": null,
      "outputs": []
    },
    {
      "cell_type": "code",
      "source": [
        "# Remover um elemento da lista pelo seu índice\n",
        "x = [1, 30, 5, 8, 0, 30, 5, 5, 0]\n",
        "# 0 1 2 3 4 5 6 7 8 <= Posições.\n",
        "print(x)\n",
        "x.pop(2) # Remove o elemento que está no índice 2, ou seja, o valor 5.\n",
        "print(x)"
      ],
      "metadata": {
        "id": "rr2_DCWBZr-J"
      },
      "execution_count": null,
      "outputs": []
    },
    {
      "cell_type": "code",
      "source": [
        "# Iterando em uma lista\n",
        "for numeros in x:\n",
        "  print(numeros)"
      ],
      "metadata": {
        "id": "zxtuadHvZ7Rp"
      },
      "execution_count": null,
      "outputs": []
    },
    {
      "cell_type": "code",
      "source": [
        "# Indexando em uma lista\n",
        "x = [1, 30, 5, 8, 2]\n",
        "print(x[0])\n",
        "print(x[1])\n",
        "print(x[2])\n",
        "print(x[3])\n",
        "print(x[4])\n",
        "# Índice negativo.\n",
        "print(x[-1])\n",
        "print(x[-2])\n",
        "print(x[-3])\n",
        "print(x[-4])\n",
        "print(x[-5])"
      ],
      "metadata": {
        "id": "3OQv8ieQaFXk"
      },
      "execution_count": null,
      "outputs": []
    },
    {
      "cell_type": "code",
      "source": [
        "x = [1, 30, 5, 8, 2]\n",
        "# 0 1 2 3 4 <= Posições.\n",
        "print(x[1:]) # [30, 5, 8, 2]\n",
        "print(x[::]) # [1, 30, 5, 8, 2] => Todos os elementos da lista.\n",
        "print(x[:2]) # [1, 30] => Lembrando que o índice 2 não é incluído.\n",
        "print(x[1:3]) # [30, 5] => Lembrando que o índice 3 não é incluído.\n",
        "print(x[1::2]) # [30, 8] => Vai do índice 1 até o final com passo 2.\n",
        "print(x[::2]) # [1, 5, 2] => Vai do índice 0 até o final com passo 2.\n",
        "print(x[::-2]) # [2, 5, 1] => Vai do índice 0 até o final com passo -2."
      ],
      "metadata": {
        "id": "rN6_4qIVaSYx"
      },
      "execution_count": null,
      "outputs": []
    },
    {
      "cell_type": "code",
      "source": [
        "# Lista aninhadas: lista[linha][coluna].\n",
        "\n",
        "x = [[1, 30, 5], [1, 2, 3], [10, 20, 30]] # Matriz 3 x 3.\n",
        "print(x[0])\n",
        "print(x[1])\n",
        "print(x[2])\n",
        "print(x[0][2]) # Acessando a lista no índice 0 ([1, 30, 5]) e acessando o índice 2 que representa o valor 5"
      ],
      "metadata": {
        "id": "CrAedJe2aUwy"
      },
      "execution_count": null,
      "outputs": []
    },
    {
      "cell_type": "markdown",
      "source": [
        "### Como criar funções\n",
        "Definição: As funções são pequenos trechos de código que realizam tarefas específicas.\n",
        "Exemplo:\n",
        "\n",
        "\n",
        "```\n",
        "def nome_da_funcao(parametros_de_entrada):\n",
        "  bloco_da_funcao\n",
        "```\n",
        "\n",
        "Onde:\n",
        "  - nome_da_função: Sempre utilizar letras minúsculas, e se for nome composto, utilizar underline (“_”).\n",
        "  - parametros_de_entrada: São opcionais. Tendo mais de um, separar por vírgula.\n",
        "  - bloco_da_funcao: Onde o processamento da função ocorre. Neste bloco, pode ter ou não retorno da função.\n",
        "\n",
        "A palavra reservada para função é def.\n",
        "\n",
        "É interessante notar que dentro de uma função, pode-se chamar outra função\n"
      ],
      "metadata": {
        "id": "Wz-5AUV7bWzx"
      }
    },
    {
      "cell_type": "code",
      "source": [
        "# Definição da função.\n",
        "def meu_nome():\n",
        "  print('Izadora S. de Carvalho')\n",
        "# Chamada de execução.\n",
        "meu_nome()"
      ],
      "metadata": {
        "id": "RLpES8pOcDVo"
      },
      "execution_count": null,
      "outputs": []
    },
    {
      "cell_type": "code",
      "source": [
        "def kelvin_para_celsius(tk):\n",
        "  return tk - 273.17"
      ],
      "metadata": {
        "id": "X0WJTirQclPF"
      },
      "execution_count": null,
      "outputs": []
    },
    {
      "cell_type": "code",
      "source": [
        "# Forma 1: Executando por meio do print.\n",
        "print(kelvin_para_celsius(300))"
      ],
      "metadata": {
        "id": "4-QWGt9VctbL"
      },
      "execution_count": null,
      "outputs": []
    },
    {
      "cell_type": "code",
      "source": [
        "# Forma 2: Atribuindo a função a uma variável (tc).\n",
        "tc = kelvin_para_celsius(300)\n",
        "print(tc)"
      ],
      "metadata": {
        "id": "6H1qc22LcyJX"
      },
      "execution_count": null,
      "outputs": []
    },
    {
      "cell_type": "code",
      "source": [
        "# Forma 2: Atribuindo a função a uma variável (tc).\n",
        "tc = kelvin_para_celsius(300)\n",
        "tc"
      ],
      "metadata": {
        "id": "SZHsec9yc2R2"
      },
      "execution_count": null,
      "outputs": []
    },
    {
      "cell_type": "markdown",
      "source": [
        "### Baixando dados climáticos do INMET"
      ],
      "metadata": {
        "id": "xEdqxBJhKOy9"
      }
    },
    {
      "cell_type": "code",
      "source": [
        "url = 'https://portal.inmet.gov.br/uploads/normais/Normal-Climatologica-TMAX.xlsx'\n",
        "filename = wget.download(url)\n",
        "filename"
      ],
      "metadata": {
        "id": "0Pw5WDkH3wqw"
      },
      "execution_count": null,
      "outputs": []
    },
    {
      "cell_type": "markdown",
      "source": [
        "### Organizando a tabela dos dados"
      ],
      "metadata": {
        "id": "dFRvUSwWKYn4"
      }
    },
    {
      "cell_type": "code",
      "source": [
        "file_path = \"Normal-Climatologica-TMAX.xlsx\"\n",
        "data = pd.read_excel(file_path)\n",
        "# data = pd.read_excel(file_path, skiprows=1)\n",
        "data.head()"
      ],
      "metadata": {
        "id": "K_JPdvZX57Dr"
      },
      "execution_count": null,
      "outputs": []
    },
    {
      "cell_type": "code",
      "source": [
        "file_path = \"Normal-Climatologica-TMAX.xlsx\"\n",
        "data = pd.read_excel(file_path, skiprows=1)\n",
        "data.columns = data.iloc[0]  # Define a primeira linha como cabeçalho\n",
        "data = data[1:]\n",
        "data.head()"
      ],
      "metadata": {
        "id": "ZhX-R4GW4MxN"
      },
      "execution_count": null,
      "outputs": []
    },
    {
      "cell_type": "code",
      "source": [
        "data.columns"
      ],
      "metadata": {
        "id": "6-B198DAelg5"
      },
      "execution_count": null,
      "outputs": []
    },
    {
      "cell_type": "code",
      "source": [
        "df = data.drop('Ano', axis=1)\n",
        "df.columns"
      ],
      "metadata": {
        "colab": {
          "base_uri": "https://localhost:8080/"
        },
        "id": "7azpqqLjeqpM",
        "outputId": "b4128d0a-223d-4eed-9d56-ccc0ff0d755a"
      },
      "execution_count": null,
      "outputs": [
        {
          "output_type": "execute_result",
          "data": {
            "text/plain": [
              "Index(['Código ', 'Nome da Estação', 'UF', 'Janeiro', 'Fevereiro', 'Março',\n",
              "       'Abril', 'Maio', 'Junho', 'Julho', 'Agosto', 'Setembro', 'Outubro',\n",
              "       'Novembro', 'Dezembro'],\n",
              "      dtype='object', name=0)"
            ]
          },
          "metadata": {},
          "execution_count": 82
        }
      ]
    },
    {
      "cell_type": "code",
      "source": [
        "print(type(df))"
      ],
      "metadata": {
        "id": "MULXQFbfeaig"
      },
      "execution_count": null,
      "outputs": []
    },
    {
      "cell_type": "code",
      "source": [
        "df.shape #(linhas, colunas)"
      ],
      "metadata": {
        "id": "nm2mcHZqfEMf"
      },
      "execution_count": null,
      "outputs": []
    },
    {
      "cell_type": "code",
      "source": [
        "# Salvando o DataFrame 'df' em um arquivo CSV\n",
        "df.to_csv('df_data.csv', index=False)"
      ],
      "metadata": {
        "id": "IQiJu-PugpvK"
      },
      "execution_count": null,
      "outputs": []
    },
    {
      "cell_type": "markdown",
      "source": [
        "### Carregando os dados"
      ],
      "metadata": {
        "id": "CVhmQGAshcbY"
      }
    },
    {
      "cell_type": "code",
      "source": [
        "caminho_arquivo = 'df_data.csv'\n",
        "df = pd.read_csv(caminho_arquivo)"
      ],
      "metadata": {
        "id": "hXwZawFdhtuo"
      },
      "execution_count": null,
      "outputs": []
    },
    {
      "cell_type": "markdown",
      "source": [
        "###Importando bibliotecas/pacotes"
      ],
      "metadata": {
        "id": "WZI_zzIjhqDJ"
      }
    },
    {
      "cell_type": "code",
      "source": [
        "# Importando bibliotecas\n",
        "import pandas as pd\n",
        "import matplotlib.pyplot as plt\n",
        "import seaborn as sns"
      ],
      "metadata": {
        "id": "P3RCIigHhZNB"
      },
      "execution_count": null,
      "outputs": []
    },
    {
      "cell_type": "code",
      "source": [
        "# Convertendo colunas de temperatura para numérico\n",
        "for month in df.columns[3:]:\n",
        "      df[month] = pd.to_numeric(df[month], errors='coerce')\n",
        "\n"
      ],
      "metadata": {
        "id": "KG_qSUKZh-si"
      },
      "execution_count": null,
      "outputs": []
    },
    {
      "cell_type": "code",
      "source": [
        "# Removendo valores inválidos (-) e calculando a média anual\n",
        "df['Média Anual'] = df.iloc[:, 3:].mean(axis=1)\n"
      ],
      "metadata": {
        "id": "FyZAfuCoiDqe"
      },
      "execution_count": null,
      "outputs": []
    },
    {
      "cell_type": "code",
      "source": [
        "# Analisando estatísticas básicas\n",
        "print(\"\\nEstatísticas Básicas:\")\n",
        "print(df.describe())"
      ],
      "metadata": {
        "id": "uA5yLC0QiFn_"
      },
      "execution_count": null,
      "outputs": []
    },
    {
      "cell_type": "code",
      "source": [
        "# Temperatura média anual por estado\n",
        "plt.figure(figsize=(10, 6))\n",
        "df.groupby('UF')['Média Anual'].mean().sort_values().plot(kind='bar', color='skyblue')\n",
        "plt.title('Temperatura Média Anual por Estado')\n",
        "plt.xlabel('Estado (UF)')\n",
        "plt.ylabel('Temperatura Média Anual (°C)')\n",
        "plt.xticks(rotation=45)\n",
        "plt.grid(axis='y')\n",
        "plt.show()"
      ],
      "metadata": {
        "id": "Pj38YOEriRo2"
      },
      "execution_count": null,
      "outputs": []
    },
    {
      "cell_type": "code",
      "source": [
        "df.columns"
      ],
      "metadata": {
        "id": "Xzh0bpb8ifWn"
      },
      "execution_count": null,
      "outputs": []
    },
    {
      "cell_type": "code",
      "source": [
        "# Renomeando colunas\n",
        "df2 = df.rename(columns={'Código': 'Cod', 'Nome da Estação': 'Estacao'})\n",
        "df2"
      ],
      "metadata": {
        "id": "8cxEj7A_jqWE"
      },
      "execution_count": null,
      "outputs": []
    },
    {
      "cell_type": "code",
      "source": [
        "df.columns = ['Cod', 'Estacao', 'UF', 'Janeiro', 'Fevereiro', 'Março',\n",
        "       'Abril', 'Maio', 'Junho', 'Julho', 'Agosto', 'Setembro', 'Outubro',\n",
        "       'Novembro', 'Dezembro', 'Média Anual']"
      ],
      "metadata": {
        "id": "bS3qAQkZkd5J"
      },
      "execution_count": null,
      "outputs": []
    },
    {
      "cell_type": "code",
      "source": [
        "# Renomeando colunas usando uma função lambda\n",
        "df2 = df.rename(columns=lambda x: x.replace(' ', '_'))  #"
      ],
      "metadata": {
        "id": "V7FUALUOkjMj"
      },
      "execution_count": null,
      "outputs": []
    },
    {
      "cell_type": "code",
      "source": [
        "df2.columns"
      ],
      "metadata": {
        "id": "W45yOWxCkPHQ"
      },
      "execution_count": null,
      "outputs": []
    },
    {
      "cell_type": "code",
      "source": [
        "# Transformando a tabela para formato longo\n",
        "df_melted = pd.melt(\n",
        "        df2,\n",
        "        id_vars=['Cod', 'Estacao', 'UF'],  # Colunas que permanecerão fixas\n",
        "        value_vars=df.columns[3:15],  # Colunas a serem transformadas (meses)\n",
        "        var_name='Mes',  # Nome da nova coluna para meses\n",
        "        value_name='Temperatura'  # Nome da nova coluna para os valores\n",
        "        )\n",
        "\n",
        "# Visualizando o novo formato do dataframe\n",
        "print(df_melted.head())"
      ],
      "metadata": {
        "id": "HHG7B3ZOjSaf"
      },
      "execution_count": null,
      "outputs": []
    },
    {
      "cell_type": "code",
      "source": [
        "# Distribuição de temperaturas por mês\n",
        "df_melted = df.melt(id_vars=['Cod', 'Estacao', 'UF'],\n",
        "                    value_vars=df.columns[3:15],\n",
        "                    var_name='Mes',\n",
        "                    value_name='Temperatura')\n",
        "plt.figure(figsize=(12, 6))\n",
        "sns.boxplot(x='Mes', y='Temperatura', data=df_melted, palette='coolwarm')\n",
        "plt.title('Distribuição de Temperatura Mensal')\n",
        "plt.xlabel('Mês')\n",
        "plt.ylabel('Temperatura (°C)')\n",
        "plt.xticks(rotation=45)\n",
        "plt.show()"
      ],
      "metadata": {
        "id": "ITPq03vOibfr"
      },
      "execution_count": null,
      "outputs": []
    },
    {
      "cell_type": "markdown",
      "source": [
        "###Referências:\n",
        "\n",
        "- Livro: Aplicações de Python em Geociências ([Santos et al., 2022](http://urlib.net/8JMKD3MGP3W34T/46RTMU5)).\n",
        "- Livro: Ciências de Dados: fundamentos e aplicações (Carvalho et al., 2024)."
      ],
      "metadata": {
        "id": "51yfDtIOEOzX"
      }
    }
  ]
}