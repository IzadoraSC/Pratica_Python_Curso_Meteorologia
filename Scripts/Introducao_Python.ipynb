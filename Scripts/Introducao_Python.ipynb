{
  "nbformat": 4,
  "nbformat_minor": 0,
  "metadata": {
    "colab": {
      "provenance": []
    },
    "kernelspec": {
      "name": "python3",
      "display_name": "Python 3"
    },
    "language_info": {
      "name": "python"
    }
  },
  "cells": [
    {
      "cell_type": "markdown",
      "source": [
        "#A Linguagem Python\n",
        "\n",
        "A linguagem Python foi desenvolvida por Guido van Rossum, e lançanda no início da década de 1990. Python é uma linguagem de alto nível interpretada, de código aberto e próposito geral. Sendo utilizada em vários setores como ciência de dados, matemática, geografia, física, medicina, *big data*, *machine learning*, detre outras.\n",
        "\n",
        "Python é uma linguagem multiplataforma, funciona em diferentes ambientes e sistemas operacionais, como Android, IOS, Linux, Windows e na **nuvem**.\n",
        "\n",
        "Para executar um programa escrito em Python, é precis tê-lo instalado em seu computador, assim como também é necessário ter ferramentas para a escrita e execução de códigos. Essas ferramentas são chamadas de ambiente de desenvolvimento integrado (IDE, *integrated development environmen*t), como várias opções gratuitas.\n",
        "\n",
        "A plataforma Google Colab ou Colaboratory (este que você está acessando), permite que você escreva e execute códigos em Python no navegador, sem que seja \"necessário\" configurar ferramentas, além de possuir acesso gratuito à GPUs e compoartilhamento facilitado."
      ],
      "metadata": {
        "id": "jvDbk2jd6XFf"
      }
    },
    {
      "cell_type": "markdown",
      "source": [
        "A linguagem Python, como a maioria das linguagens de programação, é formada por:\n",
        "- comandos;\n",
        "- tipos de dados;\n",
        "- variáveis;\n",
        "- expressões;\n",
        "- estrutura de dados;\n",
        "- funções;\n",
        "- bibliotecas (pacostes)."
      ],
      "metadata": {
        "id": "vgq_s_71KySg"
      }
    },
    {
      "cell_type": "markdown",
      "source": [
        "Obs: os arquivos (scripts, códigos) criado para executar no computador, devem ter a extensão **.py** (scrip_01.py) e necessitam que o interpretador da linguagem Python esteja instalado no computador que será utilizado."
      ],
      "metadata": {
        "id": "4jpIZaZjLSFN"
      }
    },
    {
      "cell_type": "markdown",
      "source": [
        "###Conhecendo o ambiente colab"
      ],
      "metadata": {
        "id": "Nd3MfKdYIuOQ"
      }
    },
    {
      "cell_type": "code",
      "source": [
        "#Conectando ao driver\n",
        "drivery = \"/content/drive\"\n",
        "from google.colab import drive\n",
        "drive.mount(drivery)"
      ],
      "metadata": {
        "id": "gNFuTT1jJATp"
      },
      "execution_count": null,
      "outputs": []
    },
    {
      "cell_type": "code",
      "source": [
        "!pip list"
      ],
      "metadata": {
        "id": "GqaMH_T0JUWR"
      },
      "execution_count": null,
      "outputs": []
    },
    {
      "cell_type": "code",
      "execution_count": 2,
      "metadata": {
        "colab": {
          "base_uri": "https://localhost:8080/"
        },
        "id": "ZONQ3VzF3N1s",
        "outputId": "3a2d0465-1888-4b7a-e70c-5a924da8f85a"
      },
      "outputs": [
        {
          "output_type": "stream",
          "name": "stdout",
          "text": [
            "  Preparing metadata (setup.py) ... \u001b[?25l\u001b[?25hdone\n",
            "  Building wheel for wget (setup.py) ... \u001b[?25l\u001b[?25hdone\n"
          ]
        }
      ],
      "source": [
        "#Instalando bibliotecas/pacotes\n",
        "!pip install wget -q"
      ]
    },
    {
      "cell_type": "code",
      "source": [
        "#Importando bibliotecas/pacotes\n",
        "import wget\n",
        "import pandas as pd"
      ],
      "metadata": {
        "id": "0FlCWB4r3s6t"
      },
      "execution_count": 6,
      "outputs": []
    },
    {
      "cell_type": "markdown",
      "source": [
        "### Meu primeiro programa"
      ],
      "metadata": {
        "id": "dF1nfAJtMix_"
      }
    },
    {
      "cell_type": "code",
      "source": [
        "print('Primeira turma de meteorologia da UEMA!!')"
      ],
      "metadata": {
        "id": "eKGF_NcgMolE"
      },
      "execution_count": null,
      "outputs": []
    },
    {
      "cell_type": "markdown",
      "source": [
        "###Tipos de dados e variáveis"
      ],
      "metadata": {
        "id": "_92sRWKbOmN7"
      }
    },
    {
      "cell_type": "code",
      "source": [
        "temp1 = 30  # Tipo inteiro\n",
        "temp2 = 23.3  # Tipo ponto flutuante (decimal)\n",
        "estacao = 'Verão'   # Tipo texto (string, caractere)\n",
        "var_bool = True # Tipo booleano\n",
        "\n",
        "print(type(temp1))\n",
        "print(type(temp2))\n",
        "print(type(estacao))\n",
        "print(type(var_bool))"
      ],
      "metadata": {
        "id": "O0IgL9BlOwf2"
      },
      "execution_count": null,
      "outputs": []
    },
    {
      "cell_type": "code",
      "source": [
        "#Operações\n",
        "soma = temp1 + temp2\n",
        "print(soma)\n",
        "\n",
        "print(temp1 - temp2)\n",
        "print(temp1 * temp2)\n",
        "print(temp1 / temp2)"
      ],
      "metadata": {
        "id": "bvAwVGt4Pte4"
      },
      "execution_count": null,
      "outputs": []
    },
    {
      "cell_type": "code",
      "source": [
        "type(soma)"
      ],
      "metadata": {
        "id": "mvocL41iP7t4"
      },
      "execution_count": null,
      "outputs": []
    },
    {
      "cell_type": "markdown",
      "source": [
        "### O básico de programação"
      ],
      "metadata": {
        "id": "7szg0a9UQcLa"
      }
    },
    {
      "cell_type": "markdown",
      "source": [
        "- Loop for: estrutura de repetição.\n",
        "- Loop while: a estrutura será repetida enquanto a expressão for verdadeira (True), até chegar no critério de parada (que não pode faltar).\n",
        "- Condicional: uma condição é testada, caso o valor seja verdadeiro (True), um conjunto de ações são tomadas. Se for uma condicional composta, quando a condição for falsa (False), o programa executará uma ou várias instruções.\n",
        "  - if\n",
        "  - if-else\n",
        "  - if-elif-else\n",
        "- Break: utilizado para sair de loops de maneira projetada"
      ],
      "metadata": {
        "id": "O6fkyFrnQzjR"
      }
    },
    {
      "cell_type": "code",
      "source": [
        "# Loop for\n",
        "\n",
        "# Imprime cada uma das letras da palavra Meteorologia.\n",
        "nome = 'Meteorologia'\n",
        "\n",
        "for letra in nome:\n",
        "  print(letra)"
      ],
      "metadata": {
        "id": "AfBPmNSUR9cK"
      },
      "execution_count": null,
      "outputs": []
    },
    {
      "cell_type": "code",
      "source": [
        "# Loop for\n",
        "\n",
        "#Imprime os valores de 1 a 9\n",
        "for numero in range(1, 11):\n",
        "  print(numero)"
      ],
      "metadata": {
        "id": "wt7hIc5LQgKM"
      },
      "execution_count": null,
      "outputs": []
    },
    {
      "cell_type": "code",
      "source": [
        "# Loop while\n",
        "\n",
        "#Imprime os valores de 1 a 9\n",
        "numero = 1\n",
        "\n",
        "while numero < 10:\n",
        "    print(numero)\n",
        "    numero = numero + 1  #numero += 1"
      ],
      "metadata": {
        "id": "Lv7GnNLdRqzu"
      },
      "execution_count": null,
      "outputs": []
    },
    {
      "cell_type": "code",
      "source": [
        "# Loop while\n",
        "\n",
        "# Enquanto o usuário não digitar “sim”, o loop será executado\n",
        "resposta = ''\n",
        "\n",
        "while resposta != 'sim':\n",
        "    resposta = input('Você quer passar na disciplina? ')"
      ],
      "metadata": {
        "id": "sRk_gNCgStTg"
      },
      "execution_count": null,
      "outputs": []
    },
    {
      "cell_type": "code",
      "source": [
        "# Condicional: if\n",
        "\n",
        "temperatura = 30\n",
        "\n",
        "if temperatura < 40:\n",
        "  print(\"Temperatura menor que 40 graus Celsius\")\n"
      ],
      "metadata": {
        "id": "Y7tEcfuNS9UK"
      },
      "execution_count": 40,
      "outputs": []
    },
    {
      "cell_type": "code",
      "source": [
        "# Condicional: if-else\n",
        "\n",
        "temperatura = 45\n",
        "\n",
        "if temperatura < 40:\n",
        "  print(\"Temperatura menor que 40 graus Celsius\")\n",
        "else:\n",
        "  print(\"Temperatura maior que 40 graus Celsius\")"
      ],
      "metadata": {
        "id": "7eaP_-JMUvbP"
      },
      "execution_count": null,
      "outputs": []
    },
    {
      "cell_type": "code",
      "source": [
        "# Condicional: if-elif-else\n",
        "\n",
        "temperatura = 60\n",
        "\n",
        "if temperatura < 30:\n",
        "  print(\"Temperatura menor que 30 graus Celsius\")\n",
        "elif temperatura == 50:\n",
        "  print(\"Temperatura igual a 50 graus Celsius\")\n",
        "else:\n",
        "  print(\"Temperatura maior que 30 graus Celsius\")"
      ],
      "metadata": {
        "id": "prlC6M-4VCEc"
      },
      "execution_count": null,
      "outputs": []
    },
    {
      "cell_type": "code",
      "source": [
        "# Break\n",
        "for numero in range(1, 11):\n",
        "  if numero == 6:\n",
        "    break\n",
        "  else:\n",
        "    print(numero)\n",
        "\n",
        "print('Sai do loop') # O print está fora do bloco for."
      ],
      "metadata": {
        "id": "MIAbohgpVnU7"
      },
      "execution_count": null,
      "outputs": []
    },
    {
      "cell_type": "code",
      "source": [
        "while True:\n",
        "  comando = input(\"Digite 'sair' para finalizar o programa.\")\n",
        "  if comando == 'sair':\n",
        "    break"
      ],
      "metadata": {
        "id": "TQl_oLOWV94f"
      },
      "execution_count": null,
      "outputs": []
    },
    {
      "cell_type": "markdown",
      "source": [
        "### Estruturas lógicas\n",
        "- ***and*** (e);\n",
        "-  ***or*** (ou) ; e\n",
        "-  ***not*** (não)"
      ],
      "metadata": {
        "id": "K9MK5-YLWF6D"
      }
    },
    {
      "cell_type": "code",
      "source": [
        "# Exemplo 1 (and)\n",
        "\n",
        "umidade_relativa = 80\n",
        "temperatura = 20\n",
        "\n",
        "if umidade_relativa <= 30 and temperatura >= 40:\n",
        "  print(\"Condição perigosa\")\n",
        "else:\n",
        "  print(\"Condição favorável\")"
      ],
      "metadata": {
        "id": "Bm3A1cAvWXMr"
      },
      "execution_count": null,
      "outputs": []
    },
    {
      "cell_type": "code",
      "source": [
        "# Exemplo 2 (or)\n",
        "\n",
        "umidade_relativa = 80\n",
        "temperatura = 45\n",
        "\n",
        "if umidade_relativa <= 30 or temperatura >= 40:\n",
        "  print(\"Condição perigosa\")\n",
        "else:\n",
        "  print(\"Condição favorável\")"
      ],
      "metadata": {
        "id": "85nX_wMTWsXH"
      },
      "execution_count": null,
      "outputs": []
    },
    {
      "cell_type": "code",
      "source": [
        "# Exemplo 3 (not)\n",
        "\n",
        "umidade_relativa = 80\n",
        "\n",
        "if not umidade_relativa <= 30:\n",
        "  print(\"Umidade relativa alta\")\n",
        "else:\n",
        "  print(\"Umidade relativa baixa\")"
      ],
      "metadata": {
        "id": "tBdsdgxGXH9P"
      },
      "execution_count": null,
      "outputs": []
    },
    {
      "cell_type": "markdown",
      "source": [
        "###Lista\n",
        "Listas em Python funcionam como vetores/matrizes (arrays), com a diferença de serem dinâmicos\n",
        "com a possibilidade de inserir nela qualquer tipo de dado.\n",
        "- As listas em Python são representadas por [].\n",
        "- Dinâmico: Não possui tamanho fixo, ou seja, pode-se criar a lista e adicionar/remover elementos a ela;\n",
        "- Qualquer tipo de dado: Não possuem tipo de dado fixo, ou seja, pode-se incluir qualquer tipo de dado.\n",
        "- Listas são mutáveis: elas podem mudar constantemente."
      ],
      "metadata": {
        "id": "UlUTR2abXh9U"
      }
    },
    {
      "cell_type": "code",
      "source": [
        "#Exemplos de listas\n",
        "\n",
        "lista1 = [1, 99, 4, 27, 15] # Lista de inteiros.\n",
        "lista2 = ['M', 'e', 't', 'e', 'o', 'r', 'o', 'l', 'o', 'g', 'i', 'a'] # Lista de strings.\n",
        "lista3 = [] # Lista vazia.\n",
        "lista4 = list(range(11)) # Cria uma lista com 10 elementos (0 a 10) do tipo inteiro.\n",
        "lista5 = list('Meteorologia') # ['M', 'e', 't', 'e', 'o', 'r', 'o', 'l', 'o', 'g', 'i', 'a']\n"
      ],
      "metadata": {
        "id": "DWKIe4TCX0hz"
      },
      "execution_count": null,
      "outputs": []
    },
    {
      "cell_type": "code",
      "source": [
        "# Ordenando uma lista\n",
        "\n",
        "x = [1, 30, 5, 8, 0]\n",
        "x.sort()\n",
        "print(x)"
      ],
      "metadata": {
        "id": "aXnvwWt6YOGW"
      },
      "execution_count": null,
      "outputs": []
    },
    {
      "cell_type": "code",
      "source": [
        "# Contar o número de elementos que se repete na lista\n",
        "\n",
        "x = [1, 30, 5, 8, 0, 30, 5, 5, 0]\n",
        "print(x.count(5))"
      ],
      "metadata": {
        "id": "8cUq8BjjYUlw"
      },
      "execution_count": null,
      "outputs": []
    },
    {
      "cell_type": "code",
      "source": [
        "# Adicionar um elemento a lista\n",
        "\n",
        "x = [1, 30, 5, 8, 0, 30, 5, 5, 0]\n",
        "print(x)\n"
      ],
      "metadata": {
        "id": "fYZrnJtpYk4u"
      },
      "execution_count": null,
      "outputs": []
    },
    {
      "cell_type": "code",
      "source": [
        "x.append(100) # Inclui um elemento no fim da lista.\n",
        "print(x)"
      ],
      "metadata": {
        "id": "JGeyRrZIYvSF"
      },
      "execution_count": null,
      "outputs": []
    },
    {
      "cell_type": "code",
      "source": [
        "x.extend([300, 120, -5]) # Inclui mais de um elemento no fim da lista.\n",
        "print(x)"
      ],
      "metadata": {
        "id": "Klkztx8eY1Qw"
      },
      "execution_count": null,
      "outputs": []
    },
    {
      "cell_type": "code",
      "source": [
        "x.insert(4, 9) # Adiciona na posição 4 o valor -999.\n",
        "print(x)"
      ],
      "metadata": {
        "id": "2y8dAerPZCf-"
      },
      "execution_count": null,
      "outputs": []
    },
    {
      "cell_type": "code",
      "source": [
        "# Unir lista\n",
        "x = [1, 30, 5, 8, 0, 30, 5, 5, 0]\n",
        "y = [-999, 7, -10]\n",
        "print(x)\n",
        "print(y)\n",
        "x.extend(y) # Junta as duas listas.\n",
        "print(x)"
      ],
      "metadata": {
        "id": "MdVKLun4ZKrj"
      },
      "execution_count": null,
      "outputs": []
    },
    {
      "cell_type": "code",
      "source": [
        "# Inverter a ordem de uma lista\n",
        "x = [1, 30, 5, 8, 0, 30, 5, 5, 0]\n",
        "print(x)\n",
        "x.reverse() # Inverte a ordem da lista.\n",
        "print(x)"
      ],
      "metadata": {
        "id": "zd06iZJOZb1r"
      },
      "execution_count": null,
      "outputs": []
    },
    {
      "cell_type": "code",
      "source": [
        "# Remover o último elemento da lista\n",
        "x = [1, 30, 5, 8, 0, 30, 5, 5, 0]\n",
        "print(x)\n",
        "x.pop() # Remove o último elemento da lista.\n",
        "print(x)"
      ],
      "metadata": {
        "id": "LkAxzmhgZlz7"
      },
      "execution_count": null,
      "outputs": []
    },
    {
      "cell_type": "code",
      "source": [
        "# Remover um elemento da lista pelo seu índice\n",
        "x = [1, 30, 5, 8, 0, 30, 5, 5, 0]\n",
        "# 0 1 2 3 4 5 6 7 8 <= Posições.\n",
        "print(x)\n",
        "x.pop(2) # Remove o elemento que está no índice 2, ou seja, o valor 5.\n",
        "print(x)"
      ],
      "metadata": {
        "id": "rr2_DCWBZr-J"
      },
      "execution_count": null,
      "outputs": []
    },
    {
      "cell_type": "code",
      "source": [
        "# Iterando em uma lista\n",
        "for numeros in x:\n",
        "  print(numeros)"
      ],
      "metadata": {
        "id": "zxtuadHvZ7Rp"
      },
      "execution_count": null,
      "outputs": []
    },
    {
      "cell_type": "code",
      "source": [
        "# Indexando em uma lista\n",
        "x = [1, 30, 5, 8, 2]\n",
        "print(x[0])\n",
        "print(x[1])\n",
        "print(x[2])\n",
        "print(x[3])\n",
        "print(x[4])\n",
        "# Índice negativo.\n",
        "print(x[-1])\n",
        "print(x[-2])\n",
        "print(x[-3])\n",
        "print(x[-4])\n",
        "print(x[-5])"
      ],
      "metadata": {
        "id": "3OQv8ieQaFXk"
      },
      "execution_count": null,
      "outputs": []
    },
    {
      "cell_type": "code",
      "source": [
        "x = [1, 30, 5, 8, 2]\n",
        "# 0 1 2 3 4 <= Posições.\n",
        "print(x[1:]) # [30, 5, 8, 2]\n",
        "print(x[::]) # [1, 30, 5, 8, 2] => Todos os elementos da lista.\n",
        "print(x[:2]) # [1, 30] => Lembrando que o índice 2 não é incluído.\n",
        "print(x[1:3]) # [30, 5] => Lembrando que o índice 3 não é incluído.\n",
        "print(x[1::2]) # [30, 8] => Vai do índice 1 até o final com passo 2.\n",
        "print(x[::2]) # [1, 5, 2] => Vai do índice 0 até o final com passo 2.\n",
        "print(x[::-2]) # [2, 5, 1] => Vai do índice 0 até o final com passo -2."
      ],
      "metadata": {
        "id": "rN6_4qIVaSYx"
      },
      "execution_count": null,
      "outputs": []
    },
    {
      "cell_type": "code",
      "source": [
        "# Lista aninhadas: lista[linha][coluna].\n",
        "\n",
        "x = [[1, 30, 5], [1, 2, 3], [10, 20, 30]] # Matriz 3 x 3.\n",
        "print(x[0])\n",
        "print(x[1])\n",
        "print(x[2])\n",
        "print(x[0][2]) # Acessando a lista no índice 0 ([1, 30, 5]) e acessando o índice 2 que representa o valor 5"
      ],
      "metadata": {
        "colab": {
          "base_uri": "https://localhost:8080/"
        },
        "id": "CrAedJe2aUwy",
        "outputId": "4626381c-65ee-4e39-c639-5311a2b7267b"
      },
      "execution_count": 67,
      "outputs": [
        {
          "output_type": "stream",
          "name": "stdout",
          "text": [
            "[1, 30, 5]\n",
            "[1, 2, 3]\n",
            "[10, 20, 30]\n",
            "5\n"
          ]
        }
      ]
    },
    {
      "cell_type": "markdown",
      "source": [
        "### Como criar funções\n",
        "Definição: As funções são pequenos trechos de código que realizam tarefas específicas.\n",
        "Exemplo:\n",
        "\n",
        "\n",
        "```\n",
        "def nome_da_funcao(parametros_de_entrada):\n",
        "  bloco_da_funcao\n",
        "```\n",
        "\n",
        "Onde:\n",
        "  - nome_da_função: Sempre utilizar letras minúsculas, e se for nome composto, utilizar underline (“_”).\n",
        "  - parametros_de_entrada: São opcionais. Tendo mais de um, separar por vírgula.\n",
        "  - bloco_da_funcao: Onde o processamento da função ocorre. Neste bloco, pode ter ou não retorno da função.\n",
        "\n",
        "A palavra reservada para função é def.\n",
        "\n",
        "É interessante notar que dentro de uma função, pode-se chamar outra função\n"
      ],
      "metadata": {
        "id": "Wz-5AUV7bWzx"
      }
    },
    {
      "cell_type": "code",
      "source": [
        "# Definição da função.\n",
        "def meu_nome():\n",
        "  print('Izadora S. de Carvalho')\n",
        "# Chamada de execução.\n",
        "meu_nome()"
      ],
      "metadata": {
        "colab": {
          "base_uri": "https://localhost:8080/"
        },
        "id": "RLpES8pOcDVo",
        "outputId": "f8470e69-6520-4c7b-a755-024e8aee48d1"
      },
      "execution_count": 68,
      "outputs": [
        {
          "output_type": "stream",
          "name": "stdout",
          "text": [
            "Izadora S. de Carvalho\n"
          ]
        }
      ]
    },
    {
      "cell_type": "code",
      "source": [
        "def kelvin_para_celsius(tk):\n",
        "  return tk - 273.17"
      ],
      "metadata": {
        "id": "X0WJTirQclPF"
      },
      "execution_count": 69,
      "outputs": []
    },
    {
      "cell_type": "code",
      "source": [
        "# Forma 1: Executando por meio do print.\n",
        "print(kelvin_para_celsius(300))"
      ],
      "metadata": {
        "colab": {
          "base_uri": "https://localhost:8080/"
        },
        "id": "4-QWGt9VctbL",
        "outputId": "c850cd5e-d898-48d5-cab1-56cda0dc9ac9"
      },
      "execution_count": 71,
      "outputs": [
        {
          "output_type": "stream",
          "name": "stdout",
          "text": [
            "26.829999999999984\n"
          ]
        }
      ]
    },
    {
      "cell_type": "code",
      "source": [
        "# Forma 2: Atribuindo a função a uma variável (tc).\n",
        "tc = kelvin_para_celsius(300)\n",
        "print(tc)"
      ],
      "metadata": {
        "colab": {
          "base_uri": "https://localhost:8080/"
        },
        "id": "6H1qc22LcyJX",
        "outputId": "d44b70e7-8d06-44b6-848e-3486964fe148"
      },
      "execution_count": 73,
      "outputs": [
        {
          "output_type": "stream",
          "name": "stdout",
          "text": [
            "26.829999999999984\n"
          ]
        }
      ]
    },
    {
      "cell_type": "code",
      "source": [
        "# Forma 2: Atribuindo a função a uma variável (tc).\n",
        "tc = kelvin_para_celsius(300)\n",
        "tc"
      ],
      "metadata": {
        "colab": {
          "base_uri": "https://localhost:8080/"
        },
        "id": "SZHsec9yc2R2",
        "outputId": "77e511e3-be39-4c9a-a7e3-8d460499710c"
      },
      "execution_count": 76,
      "outputs": [
        {
          "output_type": "execute_result",
          "data": {
            "text/plain": [
              "26.829999999999984"
            ]
          },
          "metadata": {},
          "execution_count": 76
        }
      ]
    },
    {
      "cell_type": "markdown",
      "source": [
        "### Baixando dados climáticos do INMET"
      ],
      "metadata": {
        "id": "xEdqxBJhKOy9"
      }
    },
    {
      "cell_type": "code",
      "source": [
        "url = 'https://portal.inmet.gov.br/uploads/normais/Normal-Climatologica-TMAX.xlsx'\n",
        "filename = wget.download(url)\n",
        "filename"
      ],
      "metadata": {
        "colab": {
          "base_uri": "https://localhost:8080/",
          "height": 36
        },
        "id": "0Pw5WDkH3wqw",
        "outputId": "9e8c25dd-e04c-436a-9cc2-3405ac65191b"
      },
      "execution_count": 5,
      "outputs": [
        {
          "output_type": "execute_result",
          "data": {
            "text/plain": [
              "'Normal-Climatologica-TMAX.xlsx'"
            ],
            "application/vnd.google.colaboratory.intrinsic+json": {
              "type": "string"
            }
          },
          "metadata": {},
          "execution_count": 5
        }
      ]
    },
    {
      "cell_type": "markdown",
      "source": [
        "### Organizando a tabela dos dados"
      ],
      "metadata": {
        "id": "dFRvUSwWKYn4"
      }
    },
    {
      "cell_type": "code",
      "source": [
        "file_path = \"Normal-Climatologica-TMAX.xlsx\"\n",
        "data = pd.read_excel(file_path)\n",
        "# data = pd.read_excel(file_path, skiprows=1)\n",
        "data.head()"
      ],
      "metadata": {
        "colab": {
          "base_uri": "https://localhost:8080/",
          "height": 347
        },
        "id": "K_JPdvZX57Dr",
        "outputId": "711865f7-b39d-45ce-c279-e7fc5a903e35"
      },
      "execution_count": 22,
      "outputs": [
        {
          "output_type": "execute_result",
          "data": {
            "text/plain": [
              "  Normal Climatológica do Brasil 1991-2020       Unnamed: 1 Unnamed: 2  \\\n",
              "0   Temperatura Máxima Mensal e Anual (°C)              NaN        NaN   \n",
              "1                                  Código   Nome da Estação         UF   \n",
              "2                                    82989      AGUA BRANCA         AL   \n",
              "3                                    83249       ALAGOINHAS         BA   \n",
              "4                                    82353         ALTAMIRA         PA   \n",
              "\n",
              "  Unnamed: 3 Unnamed: 4 Unnamed: 5 Unnamed: 6 Unnamed: 7 Unnamed: 8  \\\n",
              "0        NaN        NaN        NaN        NaN        NaN        NaN   \n",
              "1    Janeiro  Fevereiro      Março      Abril       Maio      Junho   \n",
              "2       31.1          -       30.7       29.5       27.2       25.1   \n",
              "3       33.1         33       33.1       31.1       29.2       27.7   \n",
              "4       31.6       31.2       31.3       31.6       32.1       32.9   \n",
              "\n",
              "  Unnamed: 9 Unnamed: 10 Unnamed: 11 Unnamed: 12 Unnamed: 13 Unnamed: 14  \\\n",
              "0        NaN         NaN         NaN         NaN         NaN         NaN   \n",
              "1      Julho      Agosto    Setembro     Outubro    Novembro    Dezembro   \n",
              "2       24.2        25.2        27.6          30        31.1        31.5   \n",
              "3       27.2        27.4        28.8        30.6        31.9        32.9   \n",
              "4          -        34.5        34.8        34.6          34        32.9   \n",
              "\n",
              "  Unnamed: 15  \n",
              "0         NaN  \n",
              "1         Ano  \n",
              "2           -  \n",
              "3        30.5  \n",
              "4           -  "
            ],
            "text/html": [
              "\n",
              "  <div id=\"df-c83ae1fb-3473-4592-ac0a-b7fe3637e9f4\" class=\"colab-df-container\">\n",
              "    <div>\n",
              "<style scoped>\n",
              "    .dataframe tbody tr th:only-of-type {\n",
              "        vertical-align: middle;\n",
              "    }\n",
              "\n",
              "    .dataframe tbody tr th {\n",
              "        vertical-align: top;\n",
              "    }\n",
              "\n",
              "    .dataframe thead th {\n",
              "        text-align: right;\n",
              "    }\n",
              "</style>\n",
              "<table border=\"1\" class=\"dataframe\">\n",
              "  <thead>\n",
              "    <tr style=\"text-align: right;\">\n",
              "      <th></th>\n",
              "      <th>Normal Climatológica do Brasil 1991-2020</th>\n",
              "      <th>Unnamed: 1</th>\n",
              "      <th>Unnamed: 2</th>\n",
              "      <th>Unnamed: 3</th>\n",
              "      <th>Unnamed: 4</th>\n",
              "      <th>Unnamed: 5</th>\n",
              "      <th>Unnamed: 6</th>\n",
              "      <th>Unnamed: 7</th>\n",
              "      <th>Unnamed: 8</th>\n",
              "      <th>Unnamed: 9</th>\n",
              "      <th>Unnamed: 10</th>\n",
              "      <th>Unnamed: 11</th>\n",
              "      <th>Unnamed: 12</th>\n",
              "      <th>Unnamed: 13</th>\n",
              "      <th>Unnamed: 14</th>\n",
              "      <th>Unnamed: 15</th>\n",
              "    </tr>\n",
              "  </thead>\n",
              "  <tbody>\n",
              "    <tr>\n",
              "      <th>0</th>\n",
              "      <td>Temperatura Máxima Mensal e Anual (°C)</td>\n",
              "      <td>NaN</td>\n",
              "      <td>NaN</td>\n",
              "      <td>NaN</td>\n",
              "      <td>NaN</td>\n",
              "      <td>NaN</td>\n",
              "      <td>NaN</td>\n",
              "      <td>NaN</td>\n",
              "      <td>NaN</td>\n",
              "      <td>NaN</td>\n",
              "      <td>NaN</td>\n",
              "      <td>NaN</td>\n",
              "      <td>NaN</td>\n",
              "      <td>NaN</td>\n",
              "      <td>NaN</td>\n",
              "      <td>NaN</td>\n",
              "    </tr>\n",
              "    <tr>\n",
              "      <th>1</th>\n",
              "      <td>Código</td>\n",
              "      <td>Nome da Estação</td>\n",
              "      <td>UF</td>\n",
              "      <td>Janeiro</td>\n",
              "      <td>Fevereiro</td>\n",
              "      <td>Março</td>\n",
              "      <td>Abril</td>\n",
              "      <td>Maio</td>\n",
              "      <td>Junho</td>\n",
              "      <td>Julho</td>\n",
              "      <td>Agosto</td>\n",
              "      <td>Setembro</td>\n",
              "      <td>Outubro</td>\n",
              "      <td>Novembro</td>\n",
              "      <td>Dezembro</td>\n",
              "      <td>Ano</td>\n",
              "    </tr>\n",
              "    <tr>\n",
              "      <th>2</th>\n",
              "      <td>82989</td>\n",
              "      <td>AGUA BRANCA</td>\n",
              "      <td>AL</td>\n",
              "      <td>31.1</td>\n",
              "      <td>-</td>\n",
              "      <td>30.7</td>\n",
              "      <td>29.5</td>\n",
              "      <td>27.2</td>\n",
              "      <td>25.1</td>\n",
              "      <td>24.2</td>\n",
              "      <td>25.2</td>\n",
              "      <td>27.6</td>\n",
              "      <td>30</td>\n",
              "      <td>31.1</td>\n",
              "      <td>31.5</td>\n",
              "      <td>-</td>\n",
              "    </tr>\n",
              "    <tr>\n",
              "      <th>3</th>\n",
              "      <td>83249</td>\n",
              "      <td>ALAGOINHAS</td>\n",
              "      <td>BA</td>\n",
              "      <td>33.1</td>\n",
              "      <td>33</td>\n",
              "      <td>33.1</td>\n",
              "      <td>31.1</td>\n",
              "      <td>29.2</td>\n",
              "      <td>27.7</td>\n",
              "      <td>27.2</td>\n",
              "      <td>27.4</td>\n",
              "      <td>28.8</td>\n",
              "      <td>30.6</td>\n",
              "      <td>31.9</td>\n",
              "      <td>32.9</td>\n",
              "      <td>30.5</td>\n",
              "    </tr>\n",
              "    <tr>\n",
              "      <th>4</th>\n",
              "      <td>82353</td>\n",
              "      <td>ALTAMIRA</td>\n",
              "      <td>PA</td>\n",
              "      <td>31.6</td>\n",
              "      <td>31.2</td>\n",
              "      <td>31.3</td>\n",
              "      <td>31.6</td>\n",
              "      <td>32.1</td>\n",
              "      <td>32.9</td>\n",
              "      <td>-</td>\n",
              "      <td>34.5</td>\n",
              "      <td>34.8</td>\n",
              "      <td>34.6</td>\n",
              "      <td>34</td>\n",
              "      <td>32.9</td>\n",
              "      <td>-</td>\n",
              "    </tr>\n",
              "  </tbody>\n",
              "</table>\n",
              "</div>\n",
              "    <div class=\"colab-df-buttons\">\n",
              "\n",
              "  <div class=\"colab-df-container\">\n",
              "    <button class=\"colab-df-convert\" onclick=\"convertToInteractive('df-c83ae1fb-3473-4592-ac0a-b7fe3637e9f4')\"\n",
              "            title=\"Convert this dataframe to an interactive table.\"\n",
              "            style=\"display:none;\">\n",
              "\n",
              "  <svg xmlns=\"http://www.w3.org/2000/svg\" height=\"24px\" viewBox=\"0 -960 960 960\">\n",
              "    <path d=\"M120-120v-720h720v720H120Zm60-500h600v-160H180v160Zm220 220h160v-160H400v160Zm0 220h160v-160H400v160ZM180-400h160v-160H180v160Zm440 0h160v-160H620v160ZM180-180h160v-160H180v160Zm440 0h160v-160H620v160Z\"/>\n",
              "  </svg>\n",
              "    </button>\n",
              "\n",
              "  <style>\n",
              "    .colab-df-container {\n",
              "      display:flex;\n",
              "      gap: 12px;\n",
              "    }\n",
              "\n",
              "    .colab-df-convert {\n",
              "      background-color: #E8F0FE;\n",
              "      border: none;\n",
              "      border-radius: 50%;\n",
              "      cursor: pointer;\n",
              "      display: none;\n",
              "      fill: #1967D2;\n",
              "      height: 32px;\n",
              "      padding: 0 0 0 0;\n",
              "      width: 32px;\n",
              "    }\n",
              "\n",
              "    .colab-df-convert:hover {\n",
              "      background-color: #E2EBFA;\n",
              "      box-shadow: 0px 1px 2px rgba(60, 64, 67, 0.3), 0px 1px 3px 1px rgba(60, 64, 67, 0.15);\n",
              "      fill: #174EA6;\n",
              "    }\n",
              "\n",
              "    .colab-df-buttons div {\n",
              "      margin-bottom: 4px;\n",
              "    }\n",
              "\n",
              "    [theme=dark] .colab-df-convert {\n",
              "      background-color: #3B4455;\n",
              "      fill: #D2E3FC;\n",
              "    }\n",
              "\n",
              "    [theme=dark] .colab-df-convert:hover {\n",
              "      background-color: #434B5C;\n",
              "      box-shadow: 0px 1px 3px 1px rgba(0, 0, 0, 0.15);\n",
              "      filter: drop-shadow(0px 1px 2px rgba(0, 0, 0, 0.3));\n",
              "      fill: #FFFFFF;\n",
              "    }\n",
              "  </style>\n",
              "\n",
              "    <script>\n",
              "      const buttonEl =\n",
              "        document.querySelector('#df-c83ae1fb-3473-4592-ac0a-b7fe3637e9f4 button.colab-df-convert');\n",
              "      buttonEl.style.display =\n",
              "        google.colab.kernel.accessAllowed ? 'block' : 'none';\n",
              "\n",
              "      async function convertToInteractive(key) {\n",
              "        const element = document.querySelector('#df-c83ae1fb-3473-4592-ac0a-b7fe3637e9f4');\n",
              "        const dataTable =\n",
              "          await google.colab.kernel.invokeFunction('convertToInteractive',\n",
              "                                                    [key], {});\n",
              "        if (!dataTable) return;\n",
              "\n",
              "        const docLinkHtml = 'Like what you see? Visit the ' +\n",
              "          '<a target=\"_blank\" href=https://colab.research.google.com/notebooks/data_table.ipynb>data table notebook</a>'\n",
              "          + ' to learn more about interactive tables.';\n",
              "        element.innerHTML = '';\n",
              "        dataTable['output_type'] = 'display_data';\n",
              "        await google.colab.output.renderOutput(dataTable, element);\n",
              "        const docLink = document.createElement('div');\n",
              "        docLink.innerHTML = docLinkHtml;\n",
              "        element.appendChild(docLink);\n",
              "      }\n",
              "    </script>\n",
              "  </div>\n",
              "\n",
              "\n",
              "<div id=\"df-b2765e2a-8040-4aec-82e1-349d9034a897\">\n",
              "  <button class=\"colab-df-quickchart\" onclick=\"quickchart('df-b2765e2a-8040-4aec-82e1-349d9034a897')\"\n",
              "            title=\"Suggest charts\"\n",
              "            style=\"display:none;\">\n",
              "\n",
              "<svg xmlns=\"http://www.w3.org/2000/svg\" height=\"24px\"viewBox=\"0 0 24 24\"\n",
              "     width=\"24px\">\n",
              "    <g>\n",
              "        <path d=\"M19 3H5c-1.1 0-2 .9-2 2v14c0 1.1.9 2 2 2h14c1.1 0 2-.9 2-2V5c0-1.1-.9-2-2-2zM9 17H7v-7h2v7zm4 0h-2V7h2v10zm4 0h-2v-4h2v4z\"/>\n",
              "    </g>\n",
              "</svg>\n",
              "  </button>\n",
              "\n",
              "<style>\n",
              "  .colab-df-quickchart {\n",
              "      --bg-color: #E8F0FE;\n",
              "      --fill-color: #1967D2;\n",
              "      --hover-bg-color: #E2EBFA;\n",
              "      --hover-fill-color: #174EA6;\n",
              "      --disabled-fill-color: #AAA;\n",
              "      --disabled-bg-color: #DDD;\n",
              "  }\n",
              "\n",
              "  [theme=dark] .colab-df-quickchart {\n",
              "      --bg-color: #3B4455;\n",
              "      --fill-color: #D2E3FC;\n",
              "      --hover-bg-color: #434B5C;\n",
              "      --hover-fill-color: #FFFFFF;\n",
              "      --disabled-bg-color: #3B4455;\n",
              "      --disabled-fill-color: #666;\n",
              "  }\n",
              "\n",
              "  .colab-df-quickchart {\n",
              "    background-color: var(--bg-color);\n",
              "    border: none;\n",
              "    border-radius: 50%;\n",
              "    cursor: pointer;\n",
              "    display: none;\n",
              "    fill: var(--fill-color);\n",
              "    height: 32px;\n",
              "    padding: 0;\n",
              "    width: 32px;\n",
              "  }\n",
              "\n",
              "  .colab-df-quickchart:hover {\n",
              "    background-color: var(--hover-bg-color);\n",
              "    box-shadow: 0 1px 2px rgba(60, 64, 67, 0.3), 0 1px 3px 1px rgba(60, 64, 67, 0.15);\n",
              "    fill: var(--button-hover-fill-color);\n",
              "  }\n",
              "\n",
              "  .colab-df-quickchart-complete:disabled,\n",
              "  .colab-df-quickchart-complete:disabled:hover {\n",
              "    background-color: var(--disabled-bg-color);\n",
              "    fill: var(--disabled-fill-color);\n",
              "    box-shadow: none;\n",
              "  }\n",
              "\n",
              "  .colab-df-spinner {\n",
              "    border: 2px solid var(--fill-color);\n",
              "    border-color: transparent;\n",
              "    border-bottom-color: var(--fill-color);\n",
              "    animation:\n",
              "      spin 1s steps(1) infinite;\n",
              "  }\n",
              "\n",
              "  @keyframes spin {\n",
              "    0% {\n",
              "      border-color: transparent;\n",
              "      border-bottom-color: var(--fill-color);\n",
              "      border-left-color: var(--fill-color);\n",
              "    }\n",
              "    20% {\n",
              "      border-color: transparent;\n",
              "      border-left-color: var(--fill-color);\n",
              "      border-top-color: var(--fill-color);\n",
              "    }\n",
              "    30% {\n",
              "      border-color: transparent;\n",
              "      border-left-color: var(--fill-color);\n",
              "      border-top-color: var(--fill-color);\n",
              "      border-right-color: var(--fill-color);\n",
              "    }\n",
              "    40% {\n",
              "      border-color: transparent;\n",
              "      border-right-color: var(--fill-color);\n",
              "      border-top-color: var(--fill-color);\n",
              "    }\n",
              "    60% {\n",
              "      border-color: transparent;\n",
              "      border-right-color: var(--fill-color);\n",
              "    }\n",
              "    80% {\n",
              "      border-color: transparent;\n",
              "      border-right-color: var(--fill-color);\n",
              "      border-bottom-color: var(--fill-color);\n",
              "    }\n",
              "    90% {\n",
              "      border-color: transparent;\n",
              "      border-bottom-color: var(--fill-color);\n",
              "    }\n",
              "  }\n",
              "</style>\n",
              "\n",
              "  <script>\n",
              "    async function quickchart(key) {\n",
              "      const quickchartButtonEl =\n",
              "        document.querySelector('#' + key + ' button');\n",
              "      quickchartButtonEl.disabled = true;  // To prevent multiple clicks.\n",
              "      quickchartButtonEl.classList.add('colab-df-spinner');\n",
              "      try {\n",
              "        const charts = await google.colab.kernel.invokeFunction(\n",
              "            'suggestCharts', [key], {});\n",
              "      } catch (error) {\n",
              "        console.error('Error during call to suggestCharts:', error);\n",
              "      }\n",
              "      quickchartButtonEl.classList.remove('colab-df-spinner');\n",
              "      quickchartButtonEl.classList.add('colab-df-quickchart-complete');\n",
              "    }\n",
              "    (() => {\n",
              "      let quickchartButtonEl =\n",
              "        document.querySelector('#df-b2765e2a-8040-4aec-82e1-349d9034a897 button');\n",
              "      quickchartButtonEl.style.display =\n",
              "        google.colab.kernel.accessAllowed ? 'block' : 'none';\n",
              "    })();\n",
              "  </script>\n",
              "</div>\n",
              "\n",
              "    </div>\n",
              "  </div>\n"
            ],
            "application/vnd.google.colaboratory.intrinsic+json": {
              "type": "dataframe",
              "variable_name": "data",
              "summary": "{\n  \"name\": \"data\",\n  \"rows\": 192,\n  \"fields\": [\n    {\n      \"column\": \"Normal Climatol\\u00f3gica do Brasil 1991-2020\",\n      \"properties\": {\n        \"dtype\": \"string\",\n        \"num_unique_values\": 192,\n        \"samples\": [\n          83592,\n          83985,\n          82212\n        ],\n        \"semantic_type\": \"\",\n        \"description\": \"\"\n      }\n    },\n    {\n      \"column\": \"Unnamed: 1\",\n      \"properties\": {\n        \"dtype\": \"string\",\n        \"num_unique_values\": 191,\n        \"samples\": [\n          \"SALINAS\",\n          \"FONTE BOA\",\n          \"SAO CARLOS\"\n        ],\n        \"semantic_type\": \"\",\n        \"description\": \"\"\n      }\n    },\n    {\n      \"column\": \"Unnamed: 2\",\n      \"properties\": {\n        \"dtype\": \"category\",\n        \"num_unique_values\": 27,\n        \"samples\": [\n          \"GO\",\n          \"AM\",\n          \"TO\"\n        ],\n        \"semantic_type\": \"\",\n        \"description\": \"\"\n      }\n    },\n    {\n      \"column\": \"Unnamed: 3\",\n      \"properties\": {\n        \"dtype\": \"category\",\n        \"num_unique_values\": 74,\n        \"samples\": [\n          30.2,\n          28.4,\n          32.7\n        ],\n        \"semantic_type\": \"\",\n        \"description\": \"\"\n      }\n    },\n    {\n      \"column\": \"Unnamed: 4\",\n      \"properties\": {\n        \"dtype\": \"category\",\n        \"num_unique_values\": 70,\n        \"samples\": [\n          30,\n          \"Fevereiro\",\n          32.3\n        ],\n        \"semantic_type\": \"\",\n        \"description\": \"\"\n      }\n    },\n    {\n      \"column\": \"Unnamed: 5\",\n      \"properties\": {\n        \"dtype\": \"category\",\n        \"num_unique_values\": 71,\n        \"samples\": [\n          34.7,\n          \"Mar\\u00e7o\",\n          32.9\n        ],\n        \"semantic_type\": \"\",\n        \"description\": \"\"\n      }\n    },\n    {\n      \"column\": \"Unnamed: 6\",\n      \"properties\": {\n        \"dtype\": \"category\",\n        \"num_unique_values\": 84,\n        \"samples\": [\n          32.5,\n          \"Abril\",\n          30.8\n        ],\n        \"semantic_type\": \"\",\n        \"description\": \"\"\n      }\n    },\n    {\n      \"column\": \"Unnamed: 7\",\n      \"properties\": {\n        \"dtype\": \"string\",\n        \"num_unique_values\": 99,\n        \"samples\": [\n          30.7,\n          18.9,\n          31\n        ],\n        \"semantic_type\": \"\",\n        \"description\": \"\"\n      }\n    },\n    {\n      \"column\": \"Unnamed: 8\",\n      \"properties\": {\n        \"dtype\": \"string\",\n        \"num_unique_values\": 111,\n        \"samples\": [\n          29.1,\n          25.3,\n          24.3\n        ],\n        \"semantic_type\": \"\",\n        \"description\": \"\"\n      }\n    },\n    {\n      \"column\": \"Unnamed: 9\",\n      \"properties\": {\n        \"dtype\": \"string\",\n        \"num_unique_values\": 99,\n        \"samples\": [\n          34,\n          32.3,\n          30.1\n        ],\n        \"semantic_type\": \"\",\n        \"description\": \"\"\n      }\n    },\n    {\n      \"column\": \"Unnamed: 10\",\n      \"properties\": {\n        \"dtype\": \"string\",\n        \"num_unique_values\": 109,\n        \"samples\": [\n          35.8,\n          27.6,\n          24.6\n        ],\n        \"semantic_type\": \"\",\n        \"description\": \"\"\n      }\n    },\n    {\n      \"column\": \"Unnamed: 11\",\n      \"properties\": {\n        \"dtype\": \"string\",\n        \"num_unique_values\": 108,\n        \"samples\": [\n          32.3,\n          29.4,\n          25.2\n        ],\n        \"semantic_type\": \"\",\n        \"description\": \"\"\n      }\n    },\n    {\n      \"column\": \"Unnamed: 12\",\n      \"properties\": {\n        \"dtype\": \"string\",\n        \"num_unique_values\": 104,\n        \"samples\": [\n          29.9,\n          24.5,\n          31.8\n        ],\n        \"semantic_type\": \"\",\n        \"description\": \"\"\n      }\n    },\n    {\n      \"column\": \"Unnamed: 13\",\n      \"properties\": {\n        \"dtype\": \"string\",\n        \"num_unique_values\": 99,\n        \"samples\": [\n          32.1,\n          28.9,\n          25.4\n        ],\n        \"semantic_type\": \"\",\n        \"description\": \"\"\n      }\n    },\n    {\n      \"column\": \"Unnamed: 14\",\n      \"properties\": {\n        \"dtype\": \"category\",\n        \"num_unique_values\": 89,\n        \"samples\": [\n          35.8,\n          30.6,\n          29.6\n        ],\n        \"semantic_type\": \"\",\n        \"description\": \"\"\n      }\n    },\n    {\n      \"column\": \"Unnamed: 15\",\n      \"properties\": {\n        \"dtype\": \"category\",\n        \"num_unique_values\": 80,\n        \"samples\": [\n          28.7,\n          \"Ano\",\n          21.5\n        ],\n        \"semantic_type\": \"\",\n        \"description\": \"\"\n      }\n    }\n  ]\n}"
            }
          },
          "metadata": {},
          "execution_count": 22
        }
      ]
    },
    {
      "cell_type": "code",
      "source": [
        "file_path = \"Normal-Climatologica-TMAX.xlsx\"\n",
        "data = pd.read_excel(file_path, skiprows=1)\n",
        "data.columns = data.iloc[0]  # Define a primeira linha como cabeçalho\n",
        "data = data[1:]\n",
        "data.head()"
      ],
      "metadata": {
        "colab": {
          "base_uri": "https://localhost:8080/",
          "height": 244
        },
        "id": "ZhX-R4GW4MxN",
        "outputId": "49d78165-d23b-46ff-bd8f-40fd9026f861"
      },
      "execution_count": 79,
      "outputs": [
        {
          "output_type": "execute_result",
          "data": {
            "text/plain": [
              "0 Código     Nome da Estação  UF Janeiro Fevereiro Março Abril  Maio Junho  \\\n",
              "1   82989        AGUA BRANCA  AL    31.1         -  30.7  29.5  27.2  25.1   \n",
              "2   83249         ALAGOINHAS  BA    33.1        33  33.1  31.1  29.2  27.7   \n",
              "3   82353           ALTAMIRA  PA    31.6      31.2  31.3  31.6  32.1  32.9   \n",
              "4   83007  ALTO DA BOA VISTA  RJ    30.2      30.6  29.1  27.5    25  24.3   \n",
              "5   82970      ALTO PARNAIBA  MA      32        32  32.2  32.7  33.2  33.3   \n",
              "\n",
              "0 Julho Agosto Setembro Outubro Novembro Dezembro   Ano  \n",
              "1  24.2   25.2     27.6      30     31.1     31.5     -  \n",
              "2  27.2   27.4     28.8    30.6     31.9     32.9  30.5  \n",
              "3     -   34.5     34.8    34.6       34     32.9     -  \n",
              "4  24.1   24.6     25.2    26.3     26.8     29.1  26.9  \n",
              "5  33.8   35.3     36.7    35.8     33.5     32.4  33.6  "
            ],
            "text/html": [
              "\n",
              "  <div id=\"df-fbcdc4ec-6006-4560-8ba6-1593c462981a\" class=\"colab-df-container\">\n",
              "    <div>\n",
              "<style scoped>\n",
              "    .dataframe tbody tr th:only-of-type {\n",
              "        vertical-align: middle;\n",
              "    }\n",
              "\n",
              "    .dataframe tbody tr th {\n",
              "        vertical-align: top;\n",
              "    }\n",
              "\n",
              "    .dataframe thead th {\n",
              "        text-align: right;\n",
              "    }\n",
              "</style>\n",
              "<table border=\"1\" class=\"dataframe\">\n",
              "  <thead>\n",
              "    <tr style=\"text-align: right;\">\n",
              "      <th></th>\n",
              "      <th>Código</th>\n",
              "      <th>Nome da Estação</th>\n",
              "      <th>UF</th>\n",
              "      <th>Janeiro</th>\n",
              "      <th>Fevereiro</th>\n",
              "      <th>Março</th>\n",
              "      <th>Abril</th>\n",
              "      <th>Maio</th>\n",
              "      <th>Junho</th>\n",
              "      <th>Julho</th>\n",
              "      <th>Agosto</th>\n",
              "      <th>Setembro</th>\n",
              "      <th>Outubro</th>\n",
              "      <th>Novembro</th>\n",
              "      <th>Dezembro</th>\n",
              "      <th>Ano</th>\n",
              "    </tr>\n",
              "  </thead>\n",
              "  <tbody>\n",
              "    <tr>\n",
              "      <th>1</th>\n",
              "      <td>82989</td>\n",
              "      <td>AGUA BRANCA</td>\n",
              "      <td>AL</td>\n",
              "      <td>31.1</td>\n",
              "      <td>-</td>\n",
              "      <td>30.7</td>\n",
              "      <td>29.5</td>\n",
              "      <td>27.2</td>\n",
              "      <td>25.1</td>\n",
              "      <td>24.2</td>\n",
              "      <td>25.2</td>\n",
              "      <td>27.6</td>\n",
              "      <td>30</td>\n",
              "      <td>31.1</td>\n",
              "      <td>31.5</td>\n",
              "      <td>-</td>\n",
              "    </tr>\n",
              "    <tr>\n",
              "      <th>2</th>\n",
              "      <td>83249</td>\n",
              "      <td>ALAGOINHAS</td>\n",
              "      <td>BA</td>\n",
              "      <td>33.1</td>\n",
              "      <td>33</td>\n",
              "      <td>33.1</td>\n",
              "      <td>31.1</td>\n",
              "      <td>29.2</td>\n",
              "      <td>27.7</td>\n",
              "      <td>27.2</td>\n",
              "      <td>27.4</td>\n",
              "      <td>28.8</td>\n",
              "      <td>30.6</td>\n",
              "      <td>31.9</td>\n",
              "      <td>32.9</td>\n",
              "      <td>30.5</td>\n",
              "    </tr>\n",
              "    <tr>\n",
              "      <th>3</th>\n",
              "      <td>82353</td>\n",
              "      <td>ALTAMIRA</td>\n",
              "      <td>PA</td>\n",
              "      <td>31.6</td>\n",
              "      <td>31.2</td>\n",
              "      <td>31.3</td>\n",
              "      <td>31.6</td>\n",
              "      <td>32.1</td>\n",
              "      <td>32.9</td>\n",
              "      <td>-</td>\n",
              "      <td>34.5</td>\n",
              "      <td>34.8</td>\n",
              "      <td>34.6</td>\n",
              "      <td>34</td>\n",
              "      <td>32.9</td>\n",
              "      <td>-</td>\n",
              "    </tr>\n",
              "    <tr>\n",
              "      <th>4</th>\n",
              "      <td>83007</td>\n",
              "      <td>ALTO DA BOA VISTA</td>\n",
              "      <td>RJ</td>\n",
              "      <td>30.2</td>\n",
              "      <td>30.6</td>\n",
              "      <td>29.1</td>\n",
              "      <td>27.5</td>\n",
              "      <td>25</td>\n",
              "      <td>24.3</td>\n",
              "      <td>24.1</td>\n",
              "      <td>24.6</td>\n",
              "      <td>25.2</td>\n",
              "      <td>26.3</td>\n",
              "      <td>26.8</td>\n",
              "      <td>29.1</td>\n",
              "      <td>26.9</td>\n",
              "    </tr>\n",
              "    <tr>\n",
              "      <th>5</th>\n",
              "      <td>82970</td>\n",
              "      <td>ALTO PARNAIBA</td>\n",
              "      <td>MA</td>\n",
              "      <td>32</td>\n",
              "      <td>32</td>\n",
              "      <td>32.2</td>\n",
              "      <td>32.7</td>\n",
              "      <td>33.2</td>\n",
              "      <td>33.3</td>\n",
              "      <td>33.8</td>\n",
              "      <td>35.3</td>\n",
              "      <td>36.7</td>\n",
              "      <td>35.8</td>\n",
              "      <td>33.5</td>\n",
              "      <td>32.4</td>\n",
              "      <td>33.6</td>\n",
              "    </tr>\n",
              "  </tbody>\n",
              "</table>\n",
              "</div>\n",
              "    <div class=\"colab-df-buttons\">\n",
              "\n",
              "  <div class=\"colab-df-container\">\n",
              "    <button class=\"colab-df-convert\" onclick=\"convertToInteractive('df-fbcdc4ec-6006-4560-8ba6-1593c462981a')\"\n",
              "            title=\"Convert this dataframe to an interactive table.\"\n",
              "            style=\"display:none;\">\n",
              "\n",
              "  <svg xmlns=\"http://www.w3.org/2000/svg\" height=\"24px\" viewBox=\"0 -960 960 960\">\n",
              "    <path d=\"M120-120v-720h720v720H120Zm60-500h600v-160H180v160Zm220 220h160v-160H400v160Zm0 220h160v-160H400v160ZM180-400h160v-160H180v160Zm440 0h160v-160H620v160ZM180-180h160v-160H180v160Zm440 0h160v-160H620v160Z\"/>\n",
              "  </svg>\n",
              "    </button>\n",
              "\n",
              "  <style>\n",
              "    .colab-df-container {\n",
              "      display:flex;\n",
              "      gap: 12px;\n",
              "    }\n",
              "\n",
              "    .colab-df-convert {\n",
              "      background-color: #E8F0FE;\n",
              "      border: none;\n",
              "      border-radius: 50%;\n",
              "      cursor: pointer;\n",
              "      display: none;\n",
              "      fill: #1967D2;\n",
              "      height: 32px;\n",
              "      padding: 0 0 0 0;\n",
              "      width: 32px;\n",
              "    }\n",
              "\n",
              "    .colab-df-convert:hover {\n",
              "      background-color: #E2EBFA;\n",
              "      box-shadow: 0px 1px 2px rgba(60, 64, 67, 0.3), 0px 1px 3px 1px rgba(60, 64, 67, 0.15);\n",
              "      fill: #174EA6;\n",
              "    }\n",
              "\n",
              "    .colab-df-buttons div {\n",
              "      margin-bottom: 4px;\n",
              "    }\n",
              "\n",
              "    [theme=dark] .colab-df-convert {\n",
              "      background-color: #3B4455;\n",
              "      fill: #D2E3FC;\n",
              "    }\n",
              "\n",
              "    [theme=dark] .colab-df-convert:hover {\n",
              "      background-color: #434B5C;\n",
              "      box-shadow: 0px 1px 3px 1px rgba(0, 0, 0, 0.15);\n",
              "      filter: drop-shadow(0px 1px 2px rgba(0, 0, 0, 0.3));\n",
              "      fill: #FFFFFF;\n",
              "    }\n",
              "  </style>\n",
              "\n",
              "    <script>\n",
              "      const buttonEl =\n",
              "        document.querySelector('#df-fbcdc4ec-6006-4560-8ba6-1593c462981a button.colab-df-convert');\n",
              "      buttonEl.style.display =\n",
              "        google.colab.kernel.accessAllowed ? 'block' : 'none';\n",
              "\n",
              "      async function convertToInteractive(key) {\n",
              "        const element = document.querySelector('#df-fbcdc4ec-6006-4560-8ba6-1593c462981a');\n",
              "        const dataTable =\n",
              "          await google.colab.kernel.invokeFunction('convertToInteractive',\n",
              "                                                    [key], {});\n",
              "        if (!dataTable) return;\n",
              "\n",
              "        const docLinkHtml = 'Like what you see? Visit the ' +\n",
              "          '<a target=\"_blank\" href=https://colab.research.google.com/notebooks/data_table.ipynb>data table notebook</a>'\n",
              "          + ' to learn more about interactive tables.';\n",
              "        element.innerHTML = '';\n",
              "        dataTable['output_type'] = 'display_data';\n",
              "        await google.colab.output.renderOutput(dataTable, element);\n",
              "        const docLink = document.createElement('div');\n",
              "        docLink.innerHTML = docLinkHtml;\n",
              "        element.appendChild(docLink);\n",
              "      }\n",
              "    </script>\n",
              "  </div>\n",
              "\n",
              "\n",
              "<div id=\"df-9ff29d01-1575-444a-b178-ede7d0a17dd2\">\n",
              "  <button class=\"colab-df-quickchart\" onclick=\"quickchart('df-9ff29d01-1575-444a-b178-ede7d0a17dd2')\"\n",
              "            title=\"Suggest charts\"\n",
              "            style=\"display:none;\">\n",
              "\n",
              "<svg xmlns=\"http://www.w3.org/2000/svg\" height=\"24px\"viewBox=\"0 0 24 24\"\n",
              "     width=\"24px\">\n",
              "    <g>\n",
              "        <path d=\"M19 3H5c-1.1 0-2 .9-2 2v14c0 1.1.9 2 2 2h14c1.1 0 2-.9 2-2V5c0-1.1-.9-2-2-2zM9 17H7v-7h2v7zm4 0h-2V7h2v10zm4 0h-2v-4h2v4z\"/>\n",
              "    </g>\n",
              "</svg>\n",
              "  </button>\n",
              "\n",
              "<style>\n",
              "  .colab-df-quickchart {\n",
              "      --bg-color: #E8F0FE;\n",
              "      --fill-color: #1967D2;\n",
              "      --hover-bg-color: #E2EBFA;\n",
              "      --hover-fill-color: #174EA6;\n",
              "      --disabled-fill-color: #AAA;\n",
              "      --disabled-bg-color: #DDD;\n",
              "  }\n",
              "\n",
              "  [theme=dark] .colab-df-quickchart {\n",
              "      --bg-color: #3B4455;\n",
              "      --fill-color: #D2E3FC;\n",
              "      --hover-bg-color: #434B5C;\n",
              "      --hover-fill-color: #FFFFFF;\n",
              "      --disabled-bg-color: #3B4455;\n",
              "      --disabled-fill-color: #666;\n",
              "  }\n",
              "\n",
              "  .colab-df-quickchart {\n",
              "    background-color: var(--bg-color);\n",
              "    border: none;\n",
              "    border-radius: 50%;\n",
              "    cursor: pointer;\n",
              "    display: none;\n",
              "    fill: var(--fill-color);\n",
              "    height: 32px;\n",
              "    padding: 0;\n",
              "    width: 32px;\n",
              "  }\n",
              "\n",
              "  .colab-df-quickchart:hover {\n",
              "    background-color: var(--hover-bg-color);\n",
              "    box-shadow: 0 1px 2px rgba(60, 64, 67, 0.3), 0 1px 3px 1px rgba(60, 64, 67, 0.15);\n",
              "    fill: var(--button-hover-fill-color);\n",
              "  }\n",
              "\n",
              "  .colab-df-quickchart-complete:disabled,\n",
              "  .colab-df-quickchart-complete:disabled:hover {\n",
              "    background-color: var(--disabled-bg-color);\n",
              "    fill: var(--disabled-fill-color);\n",
              "    box-shadow: none;\n",
              "  }\n",
              "\n",
              "  .colab-df-spinner {\n",
              "    border: 2px solid var(--fill-color);\n",
              "    border-color: transparent;\n",
              "    border-bottom-color: var(--fill-color);\n",
              "    animation:\n",
              "      spin 1s steps(1) infinite;\n",
              "  }\n",
              "\n",
              "  @keyframes spin {\n",
              "    0% {\n",
              "      border-color: transparent;\n",
              "      border-bottom-color: var(--fill-color);\n",
              "      border-left-color: var(--fill-color);\n",
              "    }\n",
              "    20% {\n",
              "      border-color: transparent;\n",
              "      border-left-color: var(--fill-color);\n",
              "      border-top-color: var(--fill-color);\n",
              "    }\n",
              "    30% {\n",
              "      border-color: transparent;\n",
              "      border-left-color: var(--fill-color);\n",
              "      border-top-color: var(--fill-color);\n",
              "      border-right-color: var(--fill-color);\n",
              "    }\n",
              "    40% {\n",
              "      border-color: transparent;\n",
              "      border-right-color: var(--fill-color);\n",
              "      border-top-color: var(--fill-color);\n",
              "    }\n",
              "    60% {\n",
              "      border-color: transparent;\n",
              "      border-right-color: var(--fill-color);\n",
              "    }\n",
              "    80% {\n",
              "      border-color: transparent;\n",
              "      border-right-color: var(--fill-color);\n",
              "      border-bottom-color: var(--fill-color);\n",
              "    }\n",
              "    90% {\n",
              "      border-color: transparent;\n",
              "      border-bottom-color: var(--fill-color);\n",
              "    }\n",
              "  }\n",
              "</style>\n",
              "\n",
              "  <script>\n",
              "    async function quickchart(key) {\n",
              "      const quickchartButtonEl =\n",
              "        document.querySelector('#' + key + ' button');\n",
              "      quickchartButtonEl.disabled = true;  // To prevent multiple clicks.\n",
              "      quickchartButtonEl.classList.add('colab-df-spinner');\n",
              "      try {\n",
              "        const charts = await google.colab.kernel.invokeFunction(\n",
              "            'suggestCharts', [key], {});\n",
              "      } catch (error) {\n",
              "        console.error('Error during call to suggestCharts:', error);\n",
              "      }\n",
              "      quickchartButtonEl.classList.remove('colab-df-spinner');\n",
              "      quickchartButtonEl.classList.add('colab-df-quickchart-complete');\n",
              "    }\n",
              "    (() => {\n",
              "      let quickchartButtonEl =\n",
              "        document.querySelector('#df-9ff29d01-1575-444a-b178-ede7d0a17dd2 button');\n",
              "      quickchartButtonEl.style.display =\n",
              "        google.colab.kernel.accessAllowed ? 'block' : 'none';\n",
              "    })();\n",
              "  </script>\n",
              "</div>\n",
              "\n",
              "    </div>\n",
              "  </div>\n"
            ],
            "application/vnd.google.colaboratory.intrinsic+json": {
              "type": "dataframe",
              "variable_name": "data",
              "repr_error": "0"
            }
          },
          "metadata": {},
          "execution_count": 79
        }
      ]
    },
    {
      "cell_type": "code",
      "source": [
        "data.columns"
      ],
      "metadata": {
        "colab": {
          "base_uri": "https://localhost:8080/"
        },
        "id": "6-B198DAelg5",
        "outputId": "726ccee0-8a05-4956-f381-616809230aa4"
      },
      "execution_count": 80,
      "outputs": [
        {
          "output_type": "execute_result",
          "data": {
            "text/plain": [
              "Index(['Código ', 'Nome da Estação', 'UF', 'Janeiro', 'Fevereiro', 'Março',\n",
              "       'Abril', 'Maio', 'Junho', 'Julho', 'Agosto', 'Setembro', 'Outubro',\n",
              "       'Novembro', 'Dezembro', 'Ano'],\n",
              "      dtype='object', name=0)"
            ]
          },
          "metadata": {},
          "execution_count": 80
        }
      ]
    },
    {
      "cell_type": "code",
      "source": [
        "df = data.drop('Ano', axis=1)\n",
        "df.columns"
      ],
      "metadata": {
        "colab": {
          "base_uri": "https://localhost:8080/"
        },
        "id": "7azpqqLjeqpM",
        "outputId": "b4128d0a-223d-4eed-9d56-ccc0ff0d755a"
      },
      "execution_count": 82,
      "outputs": [
        {
          "output_type": "execute_result",
          "data": {
            "text/plain": [
              "Index(['Código ', 'Nome da Estação', 'UF', 'Janeiro', 'Fevereiro', 'Março',\n",
              "       'Abril', 'Maio', 'Junho', 'Julho', 'Agosto', 'Setembro', 'Outubro',\n",
              "       'Novembro', 'Dezembro'],\n",
              "      dtype='object', name=0)"
            ]
          },
          "metadata": {},
          "execution_count": 82
        }
      ]
    },
    {
      "cell_type": "code",
      "source": [
        "print(type(df))"
      ],
      "metadata": {
        "id": "MULXQFbfeaig"
      },
      "execution_count": null,
      "outputs": []
    },
    {
      "cell_type": "code",
      "source": [
        "df.shape #(linhas, colunas)"
      ],
      "metadata": {
        "id": "nm2mcHZqfEMf"
      },
      "execution_count": null,
      "outputs": []
    },
    {
      "cell_type": "code",
      "source": [
        "# Salvando o DataFrame 'df' em um arquivo CSV\n",
        "df.to_csv('df_data.csv', index=False)"
      ],
      "metadata": {
        "id": "IQiJu-PugpvK"
      },
      "execution_count": 91,
      "outputs": []
    },
    {
      "cell_type": "markdown",
      "source": [
        "### Carregando os dados"
      ],
      "metadata": {
        "id": "CVhmQGAshcbY"
      }
    },
    {
      "cell_type": "code",
      "source": [
        "caminho_arquivo = 'df_data.csv'\n",
        "df = pd.read_csv(caminho_arquivo)"
      ],
      "metadata": {
        "id": "hXwZawFdhtuo"
      },
      "execution_count": 93,
      "outputs": []
    },
    {
      "cell_type": "markdown",
      "source": [
        "###Importando bibliotecas/pacotes"
      ],
      "metadata": {
        "id": "WZI_zzIjhqDJ"
      }
    },
    {
      "cell_type": "code",
      "source": [
        "# Importando bibliotecas\n",
        "import pandas as pd\n",
        "import matplotlib.pyplot as plt\n",
        "import seaborn as sns"
      ],
      "metadata": {
        "id": "P3RCIigHhZNB"
      },
      "execution_count": 95,
      "outputs": []
    },
    {
      "cell_type": "code",
      "source": [
        "# Convertendo colunas de temperatura para numérico\n",
        "for month in df.columns[3:]:\n",
        "      df[month] = pd.to_numeric(df[month], errors='coerce')\n",
        "\n"
      ],
      "metadata": {
        "id": "KG_qSUKZh-si"
      },
      "execution_count": 96,
      "outputs": []
    },
    {
      "cell_type": "code",
      "source": [
        "# Removendo valores inválidos (-) e calculando a média anual\n",
        "df['Média Anual'] = df.iloc[:, 3:].mean(axis=1)\n"
      ],
      "metadata": {
        "id": "FyZAfuCoiDqe"
      },
      "execution_count": 97,
      "outputs": []
    },
    {
      "cell_type": "code",
      "source": [
        "# Analisando estatísticas básicas\n",
        "print(\"\\nEstatísticas Básicas:\")\n",
        "print(df.describe())"
      ],
      "metadata": {
        "colab": {
          "base_uri": "https://localhost:8080/"
        },
        "id": "uA5yLC0QiFn_",
        "outputId": "ebe722a8-9996-419d-961e-d4cc7796d0be"
      },
      "execution_count": 98,
      "outputs": [
        {
          "output_type": "stream",
          "name": "stdout",
          "text": [
            "\n",
            "Estatísticas Básicas:\n",
            "            Código      Janeiro   Fevereiro       Março       Abril  \\\n",
            "count    190.000000  175.000000  187.000000  184.000000  188.000000   \n",
            "mean   83171.678947   30.983429   31.037433   30.616848   29.950000   \n",
            "std      543.823440    1.987290    1.965014    2.214702    2.823327   \n",
            "min    82024.000000   22.800000   22.600000   21.500000   19.100000   \n",
            "25%    82772.000000   30.050000   30.450000   29.700000   28.475000   \n",
            "50%    83298.500000   31.300000   31.300000   31.150000   30.750000   \n",
            "75%    83586.750000   32.300000   32.200000   32.100000   32.000000   \n",
            "max    83997.000000   35.100000   34.700000   34.700000   34.100000   \n",
            "\n",
            "             Maio       Junho       Julho      Agosto    Setembro     Outubro  \\\n",
            "count  186.000000  183.000000  172.000000  188.000000  190.000000  189.000000   \n",
            "mean    28.688710   28.013115   28.059302   29.469681   30.646842   31.285185   \n",
            "std      3.997395    4.572017    4.853018    4.653454    4.658254    3.951729   \n",
            "min     15.800000   14.600000   14.600000   16.900000   17.000000   18.800000   \n",
            "25%     26.075000   25.250000   25.500000   26.700000   28.100000   29.000000   \n",
            "50%     29.750000   28.700000   28.300000   29.700000   31.400000   32.100000   \n",
            "75%     31.600000   31.750000   32.025000   33.225000   34.400000   34.400000   \n",
            "max     34.100000   34.800000   35.800000   37.100000   37.600000   37.700000   \n",
            "\n",
            "         Novembro    Dezembro  Média Anual  \n",
            "count  188.000000  184.000000   190.000000  \n",
            "mean    30.925000   31.048370    30.095657  \n",
            "std      3.188576    2.474879     3.281752  \n",
            "min     20.400000   22.300000    18.866667  \n",
            "25%     28.575000   29.700000    28.362500  \n",
            "50%     31.250000   31.400000    30.781667  \n",
            "75%     33.125000   32.625000    32.797917  \n",
            "max     37.000000   36.200000    34.710000  \n"
          ]
        }
      ]
    },
    {
      "cell_type": "code",
      "source": [
        "# Temperatura média anual por estado\n",
        "plt.figure(figsize=(10, 6))\n",
        "df.groupby('UF')['Média Anual'].mean().sort_values().plot(kind='bar', color='skyblue')\n",
        "plt.title('Temperatura Média Anual por Estado')\n",
        "plt.xlabel('Estado (UF)')\n",
        "plt.ylabel('Temperatura Média Anual (°C)')\n",
        "plt.xticks(rotation=45)\n",
        "plt.grid(axis='y')\n",
        "plt.show()"
      ],
      "metadata": {
        "colab": {
          "base_uri": "https://localhost:8080/",
          "height": 577
        },
        "id": "Pj38YOEriRo2",
        "outputId": "d9dc6922-adb7-4011-823b-aa4880f3de90"
      },
      "execution_count": 99,
      "outputs": [
        {
          "output_type": "display_data",
          "data": {
            "text/plain": [
              "<Figure size 1000x600 with 1 Axes>"
            ],
            "image/png": "[encoded data removed]"
          },
          "metadata": {}
        }
      ]
    },
    {
      "cell_type": "code",
      "source": [
        "df.columns"
      ],
      "metadata": {
        "colab": {
          "base_uri": "https://localhost:8080/"
        },
        "id": "Xzh0bpb8ifWn",
        "outputId": "15a8bd11-6700-4b6c-e6d5-aa9571769973"
      },
      "execution_count": 102,
      "outputs": [
        {
          "output_type": "execute_result",
          "data": {
            "text/plain": [
              "Index(['Código ', 'Nome da Estação', 'UF', 'Janeiro', 'Fevereiro', 'Março',\n",
              "       'Abril', 'Maio', 'Junho', 'Julho', 'Agosto', 'Setembro', 'Outubro',\n",
              "       'Novembro', 'Dezembro', 'Média Anual'],\n",
              "      dtype='object')"
            ]
          },
          "metadata": {},
          "execution_count": 102
        }
      ]
    },
    {
      "cell_type": "code",
      "source": [
        "# Renomeando colunas\n",
        "df2 = df.rename(columns={'Código': 'Cod', 'Nome da Estação': 'Estacao'})\n",
        "df2"
      ],
      "metadata": {
        "id": "8cxEj7A_jqWE"
      },
      "execution_count": null,
      "outputs": []
    },
    {
      "cell_type": "code",
      "source": [
        "df.columns = ['Cod', 'Estacao', 'UF', 'Janeiro', 'Fevereiro', 'Março',\n",
        "       'Abril', 'Maio', 'Junho', 'Julho', 'Agosto', 'Setembro', 'Outubro',\n",
        "       'Novembro', 'Dezembro', 'Média Anual']"
      ],
      "metadata": {
        "id": "bS3qAQkZkd5J"
      },
      "execution_count": 112,
      "outputs": []
    },
    {
      "cell_type": "code",
      "source": [
        "# Renomeando colunas usando uma função lambda\n",
        "df2 = df.rename(columns=lambda x: x.replace(' ', '_'))  #"
      ],
      "metadata": {
        "id": "V7FUALUOkjMj"
      },
      "execution_count": 115,
      "outputs": []
    },
    {
      "cell_type": "code",
      "source": [
        "df2.columns"
      ],
      "metadata": {
        "colab": {
          "base_uri": "https://localhost:8080/"
        },
        "id": "W45yOWxCkPHQ",
        "outputId": "9b6d97d5-6c0c-43e2-b2e5-dc226f32d7d3"
      },
      "execution_count": 116,
      "outputs": [
        {
          "output_type": "execute_result",
          "data": {
            "text/plain": [
              "Index(['Cod', 'Estacao', 'UF', 'Janeiro', 'Fevereiro', 'Março', 'Abril',\n",
              "       'Maio', 'Junho', 'Julho', 'Agosto', 'Setembro', 'Outubro', 'Novembro',\n",
              "       'Dezembro', 'Média_Anual'],\n",
              "      dtype='object')"
            ]
          },
          "metadata": {},
          "execution_count": 116
        }
      ]
    },
    {
      "cell_type": "code",
      "source": [
        "# Transformando a tabela para formato longo\n",
        "df_melted = pd.melt(\n",
        "        df2,\n",
        "        id_vars=['Cod', 'Estacao', 'UF'],  # Colunas que permanecerão fixas\n",
        "        value_vars=df.columns[3:15],  # Colunas a serem transformadas (meses)\n",
        "        var_name='Mes',  # Nome da nova coluna para meses\n",
        "        value_name='Temperatura'  # Nome da nova coluna para os valores\n",
        "        )\n",
        "\n",
        "# Visualizando o novo formato do dataframe\n",
        "print(df_melted.head())"
      ],
      "metadata": {
        "colab": {
          "base_uri": "https://localhost:8080/"
        },
        "id": "HHG7B3ZOjSaf",
        "outputId": "bc9741b0-b305-43b9-d2d8-8f034c27d991"
      },
      "execution_count": 119,
      "outputs": [
        {
          "output_type": "stream",
          "name": "stdout",
          "text": [
            "     Cod            Estacao  UF      Mes  Temperatura\n",
            "0  82989        AGUA BRANCA  AL  Janeiro         31.1\n",
            "1  83249         ALAGOINHAS  BA  Janeiro         33.1\n",
            "2  82353           ALTAMIRA  PA  Janeiro         31.6\n",
            "3  83007  ALTO DA BOA VISTA  RJ  Janeiro         30.2\n",
            "4  82970      ALTO PARNAIBA  MA  Janeiro         32.0\n"
          ]
        }
      ]
    },
    {
      "cell_type": "code",
      "source": [
        "# Distribuição de temperaturas por mês\n",
        "df_melted = df.melt(id_vars=['Cod', 'Estacao', 'UF'],\n",
        "                    value_vars=df.columns[3:15],\n",
        "                    var_name='Mes',\n",
        "                    value_name='Temperatura')\n",
        "plt.figure(figsize=(12, 6))\n",
        "sns.boxplot(x='Mes', y='Temperatura', data=df_melted, palette='coolwarm')\n",
        "plt.title('Distribuição de Temperatura Mensal')\n",
        "plt.xlabel('Mês')\n",
        "plt.ylabel('Temperatura (°C)')\n",
        "plt.xticks(rotation=45)\n",
        "plt.show()"
      ],
      "metadata": {
        "colab": {
          "base_uri": "https://localhost:8080/",
          "height": 722
        },
        "id": "ITPq03vOibfr",
        "outputId": "ba961016-c48f-4a63-c973-dbf7abb4b851"
      },
      "execution_count": 121,
      "outputs": [
        {
          "output_type": "stream",
          "name": "stderr",
          "text": [
            "<ipython-input-121-9eef9313cef6>:7: FutureWarning: \n",
            "\n",
            "Passing `palette` without assigning `hue` is deprecated and will be removed in v0.14.0. Assign the `x` variable to `hue` and set `legend=False` for the same effect.\n",
            "\n",
            "  sns.boxplot(x='Mes', y='Temperatura', data=df_melted, palette='coolwarm')\n"
          ]
        },
        {
          "output_type": "display_data",
          "data": {
            "text/plain": [
              "<Figure size 1200x600 with 1 Axes>"
            ],
            "image/png": "[encoded data removed]"
          },
          "metadata": {}
        }
      ]
    },
    {
      "cell_type": "markdown",
      "source": [
        "###Referências:\n",
        "\n",
        "- Livro: Aplicações de Python em Geociências ([Santos et al., 2022](http://urlib.net/8JMKD3MGP3W34T/46RTMU5)).\n",
        "- Livro: Ciências de Dados: fundamentos e aplicações (Carvalho et al., 2024)."
      ],
      "metadata": {
        "id": "51yfDtIOEOzX"
      }
    }
  ]
}